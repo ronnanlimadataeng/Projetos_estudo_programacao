{
  "nbformat": 4,
  "nbformat_minor": 0,
  "metadata": {
    "colab": {
      "provenance": [],
      "collapsed_sections": [],
      "mount_file_id": "1NB2eegx-zkPDgCm_HkzyvlzaOMXXiCOW",
      "authorship_tag": "ABX9TyMp6jAHPHO8r8ddgObbHPYh",
      "include_colab_link": true
    },
    "kernelspec": {
      "display_name": "Python 3",
      "name": "python3"
    },
    "language_info": {
      "name": "python"
    }
  },
  "cells": [
    {
      "cell_type": "markdown",
      "metadata": {
        "id": "view-in-github",
        "colab_type": "text"
      },
      "source": [
        "<a href=\"https://colab.research.google.com/github/ronnanlimao/projetos_programacao/blob/main/python_exemplos_fundbradesco.ipynb\" target=\"_parent\"><img src=\"https://colab.research.google.com/assets/colab-badge.svg\" alt=\"Open In Colab\"/></a>"
      ]
    },
    {
      "cell_type": "markdown",
      "metadata": {
        "id": "SiUlv5aQSlsm"
      },
      "source": [
        "Linguagem de Programação Python - Básico Fundação bradesco 12/08/2021"
      ]
    },
    {
      "cell_type": "code",
      "metadata": {
        "id": "bzp9FQGnSJR4"
      },
      "source": [
        "nome = 'murilo' #primeira variavel referente ao nome\n",
        "print(nome)     #impressão final com a nome"
      ],
      "execution_count": null,
      "outputs": []
    },
    {
      "cell_type": "code",
      "metadata": {
        "colab": {
          "base_uri": "https://localhost:8080/"
        },
        "id": "LzPg4yn-SUeX",
        "outputId": "f89a7997-38d9-412b-eac4-0c670229c168"
      },
      "source": [
        "codigo = 10     # primeira variavel referente ao codigo\n",
        "salario = 1500  # segunda variavel valor salario \n",
        "nome = 'jose'   # terceira variavel entrada de nome\n",
        "print(\"Codigo: \", codigo, \"Nome: \", nome, \"O salário atual é de: \", salario) #impressão final com a todas as variaveis"
      ],
      "execution_count": null,
      "outputs": [
        {
          "output_type": "stream",
          "name": "stdout",
          "text": [
            "Codigo:  10 Nome:  jose O salário atual é de:  1500\n"
          ]
        }
      ]
    },
    {
      "cell_type": "code",
      "metadata": {
        "colab": {
          "base_uri": "https://localhost:8080/"
        },
        "id": "voFWOjDPSrad",
        "outputId": "a075e3ec-36e2-42ea-f7d0-9d7b31de4510"
      },
      "source": [
        "pi=3.14 #primeira variavel referente ao valor de PI\n",
        "raio=5  #segunda variavel referente ao raio\n",
        "area=pi*raio #multiplicação entre o pi x o raio \n",
        "print(area) #impressão final do calculo"
      ],
      "execution_count": null,
      "outputs": [
        {
          "output_type": "stream",
          "text": [
            "15.700000000000001\n"
          ],
          "name": "stdout"
        }
      ]
    },
    {
      "cell_type": "code",
      "metadata": {
        "colab": {
          "base_uri": "https://localhost:8080/"
        },
        "id": "UtdtPKe0SwrG",
        "outputId": "5c270d06-0118-4a65-f133-e9677c6cac07"
      },
      "source": [
        "codigo = 10         #primeira variavel referente ao valor do codigo do funcionario\n",
        "salario = 1500.00   #segunda variavel referente ao valor do salario\n",
        "nome = 'jose'       #terceira variavel referente ao nome\n",
        "situação = True     #test\n",
        "tipo = type (salario) #verificação da variavel\n",
        "print(salario)        #impressão do tipo de variavel\n",
        "print(tipo)           #impressão da variavel type"
      ],
      "execution_count": null,
      "outputs": [
        {
          "output_type": "stream",
          "text": [
            "1500.0\n",
            "<class 'float'>\n"
          ],
          "name": "stdout"
        }
      ]
    },
    {
      "cell_type": "code",
      "metadata": {
        "colab": {
          "base_uri": "https://localhost:8080/"
        },
        "id": "Lx6dP1fbdobF",
        "outputId": "ab7c1347-109f-4f02-f442-faec263c3cfb"
      },
      "source": [
        "fruta = input(\"Digite o nome da Fruta\")  #input = utilizado para inserção de entradas do usuario, nome da fruta fruta\n",
        "print(fruta)                             #impressão da variavel fruta"
      ],
      "execution_count": null,
      "outputs": [
        {
          "output_type": "stream",
          "text": [
            "Digite o nome da Frutaacerola\n",
            "acerola\n"
          ],
          "name": "stdout"
        }
      ]
    },
    {
      "cell_type": "code",
      "metadata": {
        "colab": {
          "base_uri": "https://localhost:8080/"
        },
        "id": "_ot3GToJeNJG",
        "outputId": "bd9b56f3-8b49-4014-c0d2-91a79280f954"
      },
      "source": [
        "codigo = int(input(\"Digite o código do funcionario: \"))         #input = utilizado para inserção de entradas do usuario, codigo do funcionario\n",
        "nome = input(\"Digite o nome do funcionário: \")                  #input = utilizado para inserção de entradas do usuario, nome do usuario\n",
        "salario = float(input(\"Informe a salario \"))                    #input = utilizado para inserção de entradas do usuario, valor do salario\n",
        "ativo = True                                                    #input = utilizado para inserção de entradas do usuario, teste de true\n",
        "print(\"Código: %d \"% codigo)                                    #impressão impressão da variavel codigo com mascara %d (int, numeros inteiros)\n",
        "print(\"Nome: %s \"% nome)                                        #impressão da variavel nome com mascara %s(variavel tipo string)\n",
        "print(\"Salário: %.2f \" % salario)                               #impressão da variavel salario com mascara %.2f(float ou double e o \"2\" numero de casas decimais)\n",
        "print(\"Ativo: %r\" % ativo)                                      #impressão da variavel ativo com mascara %r(boolean resultado false ou true)"
      ],
      "execution_count": null,
      "outputs": [
        {
          "output_type": "stream",
          "name": "stdout",
          "text": [
            "Digite o código do funcionario: 001\n",
            "Digite o nome do funcionário: Ronnan\n",
            "Informe a salario 4100\n",
            "Código: 1 \n",
            "Nome: Ronnan \n",
            "Salário: 4100.00 \n",
            "Ativo: True\n"
          ]
        }
      ]
    },
    {
      "cell_type": "code",
      "metadata": {
        "colab": {
          "base_uri": "https://localhost:8080/"
        },
        "id": "UOJofwgSuLuV",
        "outputId": "e483b7e2-f51d-4e4b-b12e-b403cce4298e"
      },
      "source": [
        "A = 5                                               #primeira variavel hipotetica\n",
        "B = 15                                              #segunda variavel hipotetica\n",
        "C = 20                                              #terceira variavel hipotetica\n",
        "print(\" A == B and B > C : \", A == B and B > C)     #impressão da comparação das variaveis com operador logico \"and\"(Quandos todos os dados forem True, será True)\n"
      ],
      "execution_count": null,
      "outputs": [
        {
          "output_type": "stream",
          "text": [
            " A == B and B > C :  False\n"
          ],
          "name": "stdout"
        }
      ]
    },
    {
      "cell_type": "code",
      "metadata": {
        "colab": {
          "base_uri": "https://localhost:8080/"
        },
        "id": "mwrt-cz3unyZ",
        "outputId": "8d80462d-82ed-4471-f719-012b0c75fdc6"
      },
      "source": [
        "A = 5                                           #primeira variavel hipotetica\n",
        "B = 15                                          #primeira variavel hipotetica\n",
        "C = 20                                          #primeira variavel hipotetica\n",
        "print(\"A == B AND B > C: \", A == B and B > C)   #impressão da comparação das variaveis com operador logico \"and\"(Quandos todos os dados forem True, será True)\n",
        "print(\"A < B OR B > C: \", A < B or B > C)       #impressão da comparação das variaveis com operador logico \"or\"(Quandos todos os dados forem false, será false)\n",
        "print(\"not A == B : \", not A == B)              #impressão da comparação das variaveis com operador logico \"not\"(inverte a ordem dos criterios, true = false / false = true)"
      ],
      "execution_count": null,
      "outputs": [
        {
          "output_type": "stream",
          "text": [
            "A == B AND B > C:  False\n",
            "A < B OR B > C:  True\n",
            "not A == B :  True\n"
          ],
          "name": "stdout"
        }
      ]
    },
    {
      "cell_type": "code",
      "metadata": {
        "colab": {
          "base_uri": "https://localhost:8080/"
        },
        "id": "zKI_nQhV1nsN",
        "outputId": "435a5aed-dc8f-4bb0-a4d5-e6c1cc8d4095"
      },
      "source": [
        "idade = int(input(\"Digite a idade da pessoa: \"))     #input = utilizado para inserção de entradas do usuario, idade \n",
        "if idade >= 18:                                      #teste logico if(caso a idade seja o numero inserido pelo usuario seja maior ou igual(>=) que x(18), executará o \"print\")\n",
        "  print(\"Maior Idade\")                               #impressão de texto \"maior idade\"\n",
        "if idade < 18:                                       #teste logico if(caso a idade seja o numero inserido pelo usuario seja menor(<) que x(18), executará o \"print\")\n",
        "  print(\"menor idade\")                               #impressão de texto \"menor idade\""
      ],
      "execution_count": null,
      "outputs": [
        {
          "output_type": "stream",
          "name": "stdout",
          "text": [
            "Digite a idade da pessoa: 358\n",
            "Maior Idade\n"
          ]
        }
      ]
    },
    {
      "cell_type": "code",
      "metadata": {
        "colab": {
          "base_uri": "https://localhost:8080/"
        },
        "id": "bqeNjsFu32AE",
        "outputId": "9ba07743-1ac0-4bba-f681-c9d7d4d545a8"
      },
      "source": [
        "A =  int(input(\"Informe um valor para a variável A: \")) #input = utilizado para inserção de entradas do usuario, primeira variavel hipotetica \n",
        "B =  int(input(\"Informe um valor para a variável B: \")) #input = utilizado para inserção de entradas do usuario, segunda variavel hipotetica \n",
        "if (A>=B):                                              #teste logico if(caso a variabel A seja maior ou igual a B, então executará os codigos seguintes) \n",
        "    aux=A;                                              #criação de atribuição aux=a\n",
        "    A=B;                                                #criação de atribuição a=b\n",
        "    B=aux;                                              #criação de atribuição b=aux\n",
        "print(\"Valor da variável A agora é: \", A);              #impressão de texto + variavel A\n",
        "print(\"Valor da variável B agora é: \", B);              #impressão de texto + variavel B"
      ],
      "execution_count": null,
      "outputs": [
        {
          "output_type": "stream",
          "name": "stdout",
          "text": [
            "Informe um valor para a variável A: 50\n",
            "Informe um valor para a variável B: 10\n",
            "0 valor da variável A agora é:  10\n",
            "0 valor da variável B agora é:  50\n"
          ]
        }
      ]
    },
    {
      "cell_type": "code",
      "metadata": {
        "id": "OjLxOu4p9W3M",
        "colab": {
          "base_uri": "https://localhost:8080/"
        },
        "outputId": "f162c87a-281b-45f8-bf3c-74f3db2d8d4a"
      },
      "source": [
        "raio = float(input())\n",
        "n = 3.14159\n",
        "area = n*raio**2\n",
        "print(\"A=\",area)\n"
      ],
      "execution_count": null,
      "outputs": [
        {
          "output_type": "stream",
          "name": "stdout",
          "text": [
            "2\n",
            "A= 12.56636\n"
          ]
        }
      ]
    },
    {
      "cell_type": "code",
      "metadata": {
        "colab": {
          "base_uri": "https://localhost:8080/"
        },
        "id": "uPdnHV7h5Xq8",
        "outputId": "e161f0b9-c740-4886-8aea-f5c215729e39"
      },
      "source": [
        "A =  int(input(\"Informe um valor para a variável A: \"))   #input = utilizado para inserção de entradas do usuario, primeira variavel hipotetica \n",
        "B =  int(input(\"Informe um valor para a variável B: \"))   #input = utilizado para inserção de entradas do usuario, segunda variavel hipotetica \n",
        "if (A>B):                                                 #teste logico if-se(caso a variabel A seja maior ou igual a B, então executará os codigos seguintes) \n",
        "    aux=A;                                                #criação de atribuição aux=a\n",
        "    A=B;                                                  #criação de atribuição a=b\n",
        "    B=aux;                                                #criação de atribuição b=aux\n",
        "print(\"0 valor da variável A agora é: \", A);              #impressão de texto + variavel A\n",
        "print(\"0 valor da variável B agora é: \", B);              #impressão de texto + variavel B"
      ],
      "execution_count": null,
      "outputs": [
        {
          "output_type": "stream",
          "text": [
            "Informe um valor para a variável A: 22\n",
            "Informe um valor para a variável B: 55\n",
            "0 valor da variável A agora é:  22\n",
            "0 valor da variável B agora é:  55\n"
          ],
          "name": "stdout"
        }
      ]
    },
    {
      "cell_type": "code",
      "metadata": {
        "colab": {
          "base_uri": "https://localhost:8080/"
        },
        "id": "Wu0twKyd5qmC",
        "outputId": "d188eaf5-fe39-44ac-8ab2-a86d8e750b1b"
      },
      "source": [
        "idade = int(input(\"Digite a idade da pessoa: \"))          #input = utilizado para inserção de entradas do usuario, primeira variavel hipotetica\n",
        "if idade >= 18:                                           #teste logico if-se(caso a idade seja o numero inserido pelo usuario seja maior ou igual(>=) que x(18), executará o \"print\")\n",
        "    print(\"Maior idade\")                                  #impressão de texto \"maior idade\"\n",
        "else:                                                     #teste logico else-se não(caso seja diferente do teste atenterior executa o print abaixo)                       \n",
        "    print(\"Menor idade\")                                  #impressão de texto \"menor idade\""
      ],
      "execution_count": null,
      "outputs": [
        {
          "output_type": "stream",
          "name": "stdout",
          "text": [
            "Digite a idade da pessoa: 17\n",
            "Menor idade\n"
          ]
        }
      ]
    },
    {
      "cell_type": "code",
      "metadata": {
        "colab": {
          "base_uri": "https://localhost:8080/"
        },
        "id": "24tuaDtZ6Dug",
        "outputId": "c4a79090-bad6-42ac-d359-b078c243977e"
      },
      "source": [
        "# Media de notas escolares\n",
        "notaA = float(input(\"Informe a primeira nota: \"))         #input = utilizado para inserção de entradas do usuario / float(declaração de variavel não inteira), entrada de dados notaA\n",
        "notaB = float(input(\"informe a segunda nota: \"))          #input = utilizado para inserção de entradas do usuario / float(declaração de variavel não inteira), entrada de dados notaB\n",
        "\n",
        "# Calcular media\n",
        "mediafinal = (notaA + notaB) / 2                          #media das notas(NotaA+NotaB)/2\n",
        "\n",
        "#verificação\n",
        "if mediafinal >= 7.0:                                     #teste logico if-se(caso a nota inserido pelo usuario seja maior ou igual(>=) que x(7.0), executará o \"print\")\n",
        "    print(\"A Média: %.1f - Aprovado \" % mediafinal)       #impressão de texto com mascara %.1f(float ou double com 1 casa decimal)\n",
        "else:                                                     #teste logico else-se não(caso o teste anterior seja falso, irá executar o print abaixo)\n",
        "    print(\"A Média: %.1f - Reprovado \" % mediafinal)      #impressão de texto com mascara %.1f(float ou double com 1 casa decimal)"
      ],
      "execution_count": null,
      "outputs": [
        {
          "output_type": "stream",
          "name": "stdout",
          "text": [
            "Informe a primeira nota: 7.5\n",
            "informe a segunda nota: 7.1\n",
            "A Média: 7.3 - Aprovado \n"
          ]
        }
      ]
    },
    {
      "cell_type": "code",
      "metadata": {
        "colab": {
          "base_uri": "https://localhost:8080/"
        },
        "id": "geNNkE3nCenz",
        "outputId": "7f267a8d-26a0-4f45-fe7b-23766de5aa12"
      },
      "source": [
        "idade = int(input(\"Digite a idade da pessoa: \"))          #input = utilizado para inserção de entradas do usuario / float(declaração de variavel não inteira), entrada de dados notaA\n",
        "if idade => 18:                                           #teste logico if-se(caso a idade seja o numero inserido pelo usuario seja maior ou igual(>=) que x(18), executará o \"print\")\n",
        "    print(\"Maior idade\")                                  #impressão \"maior idade\"\n",
        "elif idade => 16:                                         #teste logico elif-ou se(caso a idade seja maior ou igua(>=) que x(16), executará o \"print\")\n",
        "    print(\"Infanto Juvenil\")                              #impressão \"infanto juvenil\"\n",
        "else:                                                     #teste logico else-se não(caso não seja nenhum dos teste anteriores, irá executar o \"print\")\n",
        "    print(\"Menor de idade\")                               #impressão \"menor idade\""
      ],
      "execution_count": null,
      "outputs": [
        {
          "output_type": "stream",
          "text": [
            "Digite a idade da pessoa: 17\n",
            "Infanto Juvenil\n"
          ],
          "name": "stdout"
        }
      ]
    },
    {
      "cell_type": "code",
      "metadata": {
        "colab": {
          "base_uri": "https://localhost:8080/"
        },
        "id": "0wNn3JA2EdzE",
        "outputId": "9151061f-38ad-4490-d782-63018888a0ab"
      },
      "source": [
        "for n in range(10):                                  #Estruturas de repetição for(para) até o numero 10(inciando a contagem em \"0\")\n",
        "  print(n)                                           #impressão print (n)"
      ],
      "execution_count": null,
      "outputs": [
        {
          "output_type": "stream",
          "name": "stdout",
          "text": [
            "0\n",
            "1\n",
            "2\n",
            "3\n",
            "4\n",
            "5\n",
            "6\n",
            "7\n",
            "8\n",
            "9\n"
          ]
        }
      ]
    },
    {
      "cell_type": "code",
      "metadata": {
        "colab": {
          "base_uri": "https://localhost:8080/"
        },
        "id": "VIvwG4-xxAVS",
        "outputId": "f6c1061b-3dfb-490d-98b8-ee8f3caee228"
      },
      "source": [
        "# Tela de inicio para calculo de ano que nasceu\n",
        "datanasc = int(input(\"Digite em que ano você nasceu: \"))  #input = utilizado para inserção de entradas do usuario / int(numeros inteiros), ano de nascimento\n",
        "anoatual = int(input(\"Digite que ano está: \"))            #input = utilizado para inserção de entradas do usuario / int(numeros inteiros), ano atual\n",
        "\n",
        "# Calcular a data de nascimento\n",
        "contafinal = (anoatual - datanasc)                        #variavel para subtração do ano atual - ano de nascimento\n",
        "print(\"sua idade é: \", contafinal)                        #impressão do resultado\n",
        "\n"
      ],
      "execution_count": null,
      "outputs": [
        {
          "output_type": "stream",
          "name": "stdout",
          "text": [
            "Digite em que ano você nasceu: 1998\n",
            "Digite que ano está: 2015\n",
            "sua idade é:  17\n"
          ]
        }
      ]
    },
    {
      "cell_type": "code",
      "metadata": {
        "colab": {
          "base_uri": "https://localhost:8080/"
        },
        "id": "0vpkOQNq3hsI",
        "outputId": "cc3d278b-1d80-4914-be14-18ee380eaf75"
      },
      "source": [
        "for n in range(5,16):                                     #for-para(como pesquisa) in(dentro) range(periodo sendo 5 inicio da contagem e o 16 limite final)\n",
        "  print(n)                                                #impressão de n"
      ],
      "execution_count": null,
      "outputs": [
        {
          "output_type": "stream",
          "text": [
            "5\n",
            "6\n",
            "7\n",
            "8\n",
            "9\n",
            "10\n",
            "11\n",
            "12\n",
            "13\n",
            "14\n",
            "15\n"
          ],
          "name": "stdout"
        }
      ]
    },
    {
      "cell_type": "code",
      "metadata": {
        "colab": {
          "base_uri": "https://localhost:8080/"
        },
        "id": "-tvMIdDV3_O3",
        "outputId": "104d3084-8463-4d8e-b7dd-dcc55047f10d"
      },
      "source": [
        "for n in range(10,0,-1):\n",
        "    print(n)"
      ],
      "execution_count": null,
      "outputs": [
        {
          "output_type": "stream",
          "text": [
            "10\n",
            "9\n",
            "8\n",
            "7\n",
            "6\n",
            "5\n",
            "4\n",
            "3\n",
            "2\n",
            "1\n"
          ],
          "name": "stdout"
        }
      ]
    },
    {
      "cell_type": "code",
      "metadata": {
        "colab": {
          "base_uri": "https://localhost:8080/"
        },
        "id": "xH8dBOD34S-d",
        "outputId": "dd77b390-e6c2-4bf7-991e-2e3c620a8e9b"
      },
      "source": [
        "for n in range(20,0,-1):\n",
        "    print(n)"
      ],
      "execution_count": null,
      "outputs": [
        {
          "output_type": "stream",
          "text": [
            "20\n",
            "19\n",
            "18\n",
            "17\n",
            "16\n",
            "15\n",
            "14\n",
            "13\n",
            "12\n",
            "11\n",
            "10\n",
            "9\n",
            "8\n",
            "7\n",
            "6\n",
            "5\n",
            "4\n",
            "3\n",
            "2\n",
            "1\n"
          ],
          "name": "stdout"
        }
      ]
    },
    {
      "cell_type": "code",
      "metadata": {
        "colab": {
          "base_uri": "https://localhost:8080/"
        },
        "id": "dKl8KRN25rSN",
        "outputId": "ad98feb6-e6b3-4a06-d2f3-9d891d0affc9"
      },
      "source": [
        "x = 1;\n",
        "while x<=15:\n",
        "    print(x);\n",
        "    x=x+1"
      ],
      "execution_count": null,
      "outputs": [
        {
          "output_type": "stream",
          "text": [
            "1\n",
            "2\n",
            "3\n",
            "4\n",
            "5\n",
            "6\n",
            "7\n",
            "8\n",
            "9\n",
            "10\n",
            "11\n",
            "12\n",
            "13\n",
            "14\n",
            "15\n"
          ],
          "name": "stdout"
        }
      ]
    },
    {
      "cell_type": "code",
      "metadata": {
        "colab": {
          "base_uri": "https://localhost:8080/"
        },
        "id": "kJaWGBwjDQGy",
        "outputId": "d45a8fb8-1fe3-4bdc-c111-9c358296df83"
      },
      "source": [
        "#mediavalores\n",
        "qtd=0\n",
        "soma=0\n",
        "media=0\n",
        "valor = float(input(\"Digite um valor: \"))\n",
        "\n",
        "while (valor> 0.0):\n",
        "  soma = soma + valor\n",
        "  qtd = qtd + 1\n",
        "\n",
        "  # Entrada de valores\n",
        "  valor = float(input(\"Digite um valor: \"))\n",
        "\n",
        "#caso digite um valor negativo o laço encerra\n",
        "media = soma / qtd\n",
        "print(\"\\n Total da soma: \", soma)\n",
        "print(\"\\n Quantidade de valores digitados: \", qtd)\n",
        "print(\"\\n Média dos valores: \", media)"
      ],
      "execution_count": null,
      "outputs": [
        {
          "output_type": "stream",
          "text": [
            "Digite um valor: 25.6\n",
            "Digite um valor: 52.5\n",
            "Digite um valor: 33.9\n",
            "Digite um valor: -1\n",
            "\n",
            " Total da soma:  112.0\n",
            "\n",
            " Quantidade de valores digitados:  3\n",
            "\n",
            " Média dos valores:  37.333333333333336\n"
          ],
          "name": "stdout"
        }
      ]
    },
    {
      "cell_type": "code",
      "metadata": {
        "colab": {
          "base_uri": "https://localhost:8080/"
        },
        "id": "zYFmQJp0GcGy",
        "outputId": "adb458d9-15f9-4a1c-f794-a981bde3bc2b"
      },
      "source": [
        "def mensagem1_welcome():\n",
        "    print(\"Hello World\")\n",
        "\n",
        "def mensagem2_roles():\n",
        "    return 'Hello World' + (nome)\n",
        "\n",
        "def mensagem2_roles():\n",
        "    return 'Hello World' + (nome)\n",
        "\n",
        "mesagem_completa = mensagem1_welcome() + mensagem2_roles() + mensagem2()"
      ],
      "execution_count": null,
      "outputs": [
        {
          "output_type": "stream",
          "name": "stdout",
          "text": [
            "Ronnan Lima\n",
            "Hello World\n",
            "Hello WorldRonnan Lima\n"
          ]
        }
      ]
    },
    {
      "cell_type": "code",
      "metadata": {
        "colab": {
          "base_uri": "https://localhost:8080/"
        },
        "id": "fu0VcSWSHFlB",
        "outputId": "92185095-beee-4d80-ac19-b701b1a842cc"
      },
      "source": [
        "#Media de notas e mensagem\n",
        "\n",
        "def lernotas():\n",
        "  n=float(input(\"Digite uma nota para o aluno(a): \"))\n",
        "  return(n)\n",
        "\n",
        "def resultado(n1,n2):\n",
        "  media=(n1+n2)/2\n",
        "  print(\"Nota 1: \", n1)\n",
        "  print(\"Nota 2: \", n2)\n",
        "  print(\"Média: \", media, \"Resultado: \", end=\" \")\n",
        "  if media >= 7:\n",
        "    print(\"Aprovado\")\n",
        "  else:\n",
        "    print(\"Reprovado\")\n",
        "\n",
        "a = lernotas()\n",
        "b = lernotas()\n",
        "resultado(a,b)"
      ],
      "execution_count": null,
      "outputs": [
        {
          "output_type": "stream",
          "text": [
            "Digite uma nota para o aluno(a): 7\n",
            "Digite uma nota para o aluno(a): 1.2\n",
            "Nota 1:  7.0\n",
            "Nota 2:  1.2\n",
            "Média:  4.1 Resultado:  Reprovado\n"
          ],
          "name": "stdout"
        }
      ]
    },
    {
      "cell_type": "code",
      "metadata": {
        "id": "6EwEWeohIBfq"
      },
      "source": [
        "open()\n",
        "write()\n",
        "close()"
      ],
      "execution_count": null,
      "outputs": []
    },
    {
      "cell_type": "markdown",
      "metadata": {
        "id": "KXSAy537VqiB"
      },
      "source": []
    },
    {
      "cell_type": "code",
      "metadata": {
        "id": "ocr-yeuJOC93"
      },
      "source": [
        "arquivo = open('ronnan.txt',\"w\")\n",
        "\n",
        "arquivo.write('Curso Python \\n')\n",
        "arquivo.write('Aula Prática')\n",
        "arquivo.close()"
      ],
      "execution_count": null,
      "outputs": []
    },
    {
      "cell_type": "code",
      "metadata": {
        "colab": {
          "base_uri": "https://localhost:8080/"
        },
        "id": "HNBDUSywQwCw",
        "outputId": "e19a548b-d75c-434f-8316-eca2d3fe0340"
      },
      "source": [
        "arquivo = open('ronnan.txt','w')\n",
        "\n",
        "arquivo.write('1/2 xícara (chá) de óleo\\n3 cenouras médias raladas\\n4 ovos\\n2 xícaras (chá) de açúcar\\n2 e 1/2 xícaras (chá) de farinha de trigo\\n1 colher (sopa) de fermento em pó')\n",
        "arquivo.close()\n",
        "\n",
        "#leitura do arquivo texto\n",
        "\n",
        "leitura=open('ronnan.txt','r')  \n",
        "print(leitura.read())\n",
        "leitura.close()"
      ],
      "execution_count": null,
      "outputs": [
        {
          "output_type": "stream",
          "text": [
            "1/2 xícara (chá) de óleo\n",
            "3 cenouras médias raladas\n",
            "4 ovos\n",
            "2 xícaras (chá) de açúcar\n",
            "2 e 1/2 xícaras (chá) de farinha de trigo\n",
            "1 colher (sopa) de fermento em pó\n"
          ],
          "name": "stdout"
        }
      ]
    },
    {
      "cell_type": "markdown",
      "metadata": {
        "id": "S5qfi_OdTswa"
      },
      "source": [
        "Curso Basico de Python - Solyd 16/08/2021"
      ]
    },
    {
      "cell_type": "code",
      "metadata": {
        "colab": {
          "base_uri": "https://localhost:8080/"
        },
        "id": "d9UNxBcSyB-l",
        "outputId": "01b13701-ce8b-4510-e50f-29ee08c3a63f"
      },
      "source": [
        "a=2\n",
        "b=3\n",
        "print(a+b)\n",
        "print(a*b)\n",
        "print(a-b)\n",
        "print(a/b)"
      ],
      "execution_count": null,
      "outputs": [
        {
          "output_type": "stream",
          "text": [
            "5\n",
            "6\n",
            "-1\n",
            "0.6666666666666666\n"
          ],
          "name": "stdout"
        }
      ]
    },
    {
      "cell_type": "code",
      "metadata": {
        "colab": {
          "base_uri": "https://localhost:8080/"
        },
        "id": "_xDAKYMkVHcn",
        "outputId": "daf205be-4f78-48ed-986b-ee5d906113a7"
      },
      "source": [
        "print(\"hellow World\")     "
      ],
      "execution_count": null,
      "outputs": [
        {
          "output_type": "stream",
          "text": [
            "hellow World\n"
          ],
          "name": "stdout"
        }
      ]
    },
    {
      "cell_type": "code",
      "metadata": {
        "colab": {
          "base_uri": "https://localhost:8080/"
        },
        "id": "uBa5bDpTVN45",
        "outputId": "a7a2ef5b-88a7-4667-c648-29b259cccc95"
      },
      "source": [
        "a=2\n",
        "b=10\n",
        "print(a+b)\n"
      ],
      "execution_count": null,
      "outputs": [
        {
          "output_type": "stream",
          "text": [
            "12\n"
          ],
          "name": "stdout"
        }
      ]
    },
    {
      "cell_type": "code",
      "metadata": {
        "id": "A0JmvVgxVwfl"
      },
      "source": [
        "a = 1\n",
        "b = 1.2\n",
        "c = \"G\""
      ],
      "execution_count": null,
      "outputs": []
    },
    {
      "cell_type": "code",
      "metadata": {
        "colab": {
          "base_uri": "https://localhost:8080/"
        },
        "id": "uW4HWiQqYxN3",
        "outputId": "d904ed8b-552e-4a8a-f4d7-dbdb188ecbba"
      },
      "source": [
        "print('Hello world!')"
      ],
      "execution_count": null,
      "outputs": [
        {
          "output_type": "stream",
          "text": [
            "Hello world!\n"
          ],
          "name": "stdout"
        }
      ]
    },
    {
      "cell_type": "code",
      "metadata": {
        "colab": {
          "base_uri": "https://localhost:8080/"
        },
        "id": "JNlC-9jzZTyu",
        "outputId": "88428114-24b4-4546-bc2c-df5930ac0a34"
      },
      "source": [
        "print('k')"
      ],
      "execution_count": null,
      "outputs": [
        {
          "output_type": "stream",
          "text": [
            "k\n"
          ],
          "name": "stdout"
        }
      ]
    },
    {
      "cell_type": "code",
      "metadata": {
        "colab": {
          "base_uri": "https://localhost:8080/"
        },
        "id": "nsXLudMTZ77b",
        "outputId": "33d903d5-4f72-431c-bdf6-fc7635e23b55"
      },
      "source": [
        "print('Hello wolrd!\\nSegundo print')"
      ],
      "execution_count": null,
      "outputs": [
        {
          "output_type": "stream",
          "text": [
            "Hello wolrd!\n",
            "Segundo print\n"
          ],
          "name": "stdout"
        }
      ]
    },
    {
      "cell_type": "code",
      "metadata": {
        "colab": {
          "base_uri": "https://localhost:8080/"
        },
        "id": "bCC1lzR_aE6y",
        "outputId": "40b35a73-f211-4592-d131-99aa8c4e157e"
      },
      "source": [
        "print('Hello wolrd!\\tSegundo print')"
      ],
      "execution_count": null,
      "outputs": [
        {
          "output_type": "stream",
          "text": [
            "Hello wolrd!\tSegundo print\n"
          ],
          "name": "stdout"
        }
      ]
    },
    {
      "cell_type": "code",
      "metadata": {
        "colab": {
          "base_uri": "https://localhost:8080/"
        },
        "id": "EnoBVSOParDw",
        "outputId": "c2e1c0fa-96dc-440e-ba2e-7540fddb1a96"
      },
      "source": [
        "nome = 'Guilherme'\n",
        "print(nome)"
      ],
      "execution_count": null,
      "outputs": [
        {
          "output_type": "stream",
          "text": [
            "Guilherme\n"
          ],
          "name": "stdout"
        }
      ]
    },
    {
      "cell_type": "code",
      "metadata": {
        "colab": {
          "base_uri": "https://localhost:8080/"
        },
        "id": "U3dNdpWJazKQ",
        "outputId": "4ccd597b-88eb-4aca-ec3b-f51bc56fc294"
      },
      "source": [
        "nome = 'Roberto soares'\n",
        "print(nome)\n",
        "print(type(nome))"
      ],
      "execution_count": null,
      "outputs": [
        {
          "output_type": "stream",
          "text": [
            "Roberto soares\n",
            "<class 'str'>\n"
          ],
          "name": "stdout"
        }
      ]
    },
    {
      "cell_type": "code",
      "metadata": {
        "colab": {
          "base_uri": "https://localhost:8080/"
        },
        "id": "qS_HwHZUbMh_",
        "outputId": "fc7cc8e6-cc09-42a8-c730-fd7e07c8086f"
      },
      "source": [
        "nome = 'Roberto soares'\n",
        "tipo = type(nome)\n",
        "print(nome)\n",
        "print(tipo)"
      ],
      "execution_count": null,
      "outputs": [
        {
          "output_type": "stream",
          "text": [
            "Roberto soares\n",
            "<class 'str'>\n"
          ],
          "name": "stdout"
        }
      ]
    },
    {
      "cell_type": "code",
      "metadata": {
        "colab": {
          "base_uri": "https://localhost:8080/"
        },
        "id": "U54oLvqvbYS4",
        "outputId": "d195fa13-c8e9-4d37-fa46-77d35145b4e5"
      },
      "source": [
        "nome = 'guilherme'\n",
        "idade = 27\n",
        "altura = 1.78\n",
        "tipo_nome = type(nome)\n",
        "tipo_idade = type(idade)\n",
        "tipo_altura = type(altura)\n",
        "\n",
        "print(nome)\n",
        "print(idade)\n",
        "print(tipo_nome)\n",
        "print(tipo_idade)\n",
        "print(tipo_altura)"
      ],
      "execution_count": null,
      "outputs": [
        {
          "output_type": "stream",
          "text": [
            "guilherme\n",
            "27\n",
            "<class 'str'>\n",
            "<class 'int'>\n",
            "<class 'float'>\n"
          ],
          "name": "stdout"
        }
      ]
    },
    {
      "cell_type": "code",
      "metadata": {
        "colab": {
          "base_uri": "https://localhost:8080/"
        },
        "id": "a3m_vzVVciqZ",
        "outputId": "1fd7571c-5ca6-4af0-d673-f8f00769a90f"
      },
      "source": [
        "nome = 'guilherme'\n",
        "idade = 27\n",
        "altura = 1.78\n",
        "\n",
        "print(nome, \"tem\", idade, \"anos\", altura, 'de altura')\n"
      ],
      "execution_count": null,
      "outputs": [
        {
          "output_type": "stream",
          "text": [
            "guilherme tem 27 anos 1.78 de altura\n"
          ],
          "name": "stdout"
        }
      ]
    },
    {
      "cell_type": "code",
      "metadata": {
        "colab": {
          "base_uri": "https://localhost:8080/"
        },
        "id": "cQEqLAqNc0GC",
        "outputId": "6261e56c-d2c3-444b-955e-602bf3ee1332"
      },
      "source": [
        "nome = 'Ronnan Lima'\n",
        "idade = 26\n",
        "altura = 1.70\n",
        "funcao =  'Engenheiro de dados'\n",
        "\n",
        "print(nome+ \" tem \"+ str(idade)+ \" anos \"+ str(altura)+ ' de altura' + 'e agora é um ' + str(funcao))"
      ],
      "execution_count": null,
      "outputs": [
        {
          "output_type": "stream",
          "name": "stdout",
          "text": [
            "Ronnan Lima tem 26 anos 1.7 de alturae agora é um Engenheiro de dados\n"
          ]
        }
      ]
    },
    {
      "cell_type": "code",
      "metadata": {
        "colab": {
          "base_uri": "https://localhost:8080/"
        },
        "id": "7jDeRZC2drpj",
        "outputId": "fd4838d8-7789-483d-8fda-313f1e300b0e"
      },
      "source": [
        "nome = input(\"Escreva seu nome: \")\n",
        "idade = input(\"escreva sua idade: \")\n",
        "altura =  input('escreva sua idade: ')\n",
        "\n",
        "print(nome, \" tem\", idade, \"anos e\", altura, \"de altura\")\n",
        "print(type(nome), type(idade), type(altura))"
      ],
      "execution_count": null,
      "outputs": [
        {
          "output_type": "stream",
          "text": [
            "Escreva seu nome: Pedro\n",
            "escreva sua idade: 30\n",
            "escreva sua idade: 1.85\n",
            "Pedro  tem 30 anos e 1.85 de altura\n",
            "<class 'str'> <class 'str'> <class 'str'>\n"
          ],
          "name": "stdout"
        }
      ]
    },
    {
      "cell_type": "code",
      "metadata": {
        "colab": {
          "base_uri": "https://localhost:8080/"
        },
        "id": "UMc9YBTdjMka",
        "outputId": "ca197d92-503b-45d7-fcf7-c786752a7d01"
      },
      "source": [
        "numero1 = 27\n",
        "numero2 = 53\n",
        "numero3 = 85.9\n",
        "\n",
        "resultado = numero1 - numero2 / numero3 * 9\n",
        "\n",
        "print(resultado)"
      ],
      "execution_count": null,
      "outputs": [
        {
          "output_type": "stream",
          "text": [
            "21.447031431897557\n"
          ],
          "name": "stdout"
        }
      ]
    },
    {
      "cell_type": "code",
      "metadata": {
        "colab": {
          "base_uri": "https://localhost:8080/"
        },
        "id": "IWJXrNeajvPH",
        "outputId": "f0a7d14f-d019-4d87-faf7-ef65f014226c"
      },
      "source": [
        "numero1 = 2    # entrada de numero 1\n",
        "numero2 = 5\n",
        "numero3 = 85.9\n",
        "\n",
        "resultado = numero1 ** numero2  # pega a raiz quadrada do numero1\n",
        "print(resultado)"
      ],
      "execution_count": null,
      "outputs": [
        {
          "output_type": "stream",
          "text": [
            "32\n"
          ],
          "name": "stdout"
        }
      ]
    },
    {
      "cell_type": "code",
      "metadata": {
        "colab": {
          "base_uri": "https://localhost:8080/"
        },
        "id": "b9LHLpnNkSaN",
        "outputId": "b4a4883e-a4cf-4c2f-81a1-df8f34f67f38"
      },
      "source": [
        "#Exercicio: faça um formulario que pergunte\n",
        "#nome, cpf, endereço, idade, altura e telefone e imprima isso em um relatorio organizado\n",
        "\n",
        "nome = input(\"Digite o nome do usuario: \")\n",
        "cpf = input(\"Digite seu cpf? \")\n",
        "idade = input(\"Digite sua idade: \")\n",
        "altura = input(\"Digite sua altura: \")\n",
        "telefone = input(\"Digite seu numero de telefone: \")\n",
        "print(\"Meu nome é \", nome,\"com Cpf de n°:\", cpf,\"com\", idade,\" Anos\",\"e\", \"altura, atendo ligações no nº: \", telefone)\n",
        "\n",
        "\n"
      ],
      "execution_count": null,
      "outputs": [
        {
          "output_type": "stream",
          "text": [
            "Digite o nome do usuario: Ronnan Lima\n",
            "Digite seu cpf? 03276576260\n",
            "Digite sua idade: 25\n",
            "Digite sua altura: 1.70\n",
            "Digite seu numero de telefone: 41992848956\n",
            "Meu nome é  Ronnan Lima Cpf de n°:  03276576260 com  25  Anos  e  altura, atendo ligações no nº:  41992848956\n"
          ],
          "name": "stdout"
        }
      ]
    },
    {
      "cell_type": "code",
      "metadata": {
        "colab": {
          "base_uri": "https://localhost:8080/"
        },
        "id": "m8ZzKqPnnh5B",
        "outputId": "e834c608-1df6-4b6d-a75f-6039f54b253b"
      },
      "source": [
        "#Exercicio: faça um formulario que pergunte\n",
        "#nome, cpf, endereço, idade, altura e telefone e imprima isso em um relatorio organizado\n",
        "\n",
        "nome = input(\"Digite o nome do usuario: \")\n",
        "cpf = input(\"Digite seu cpf? \")\n",
        "idade = input(\"Digite sua idade: \")\n",
        "altura = input(\"Digite sua altura: \")\n",
        "telefone = input(\"Digite seu numero de telefone: \")\n",
        "print(\"Nome:\",nome)\n",
        "print(\"Cpf:\",cpf)\n",
        "print(\"Idade:\",idade)\n",
        "print(\"Altura:\",altura)\n",
        "print(\"Telefone:\",telefone)"
      ],
      "execution_count": null,
      "outputs": [
        {
          "output_type": "stream",
          "text": [
            "Digite o nome do usuario: Ronnan\n",
            "Digite seu cpf? 032765\n",
            "Digite sua idade: 30\n",
            "Digite sua altura: 1.79\n",
            "Digite seu numero de telefone: 4182565584\n",
            "Nome: Ronnan\n",
            "Cpf: 032765\n",
            "Idade: 30\n",
            "Altura: 1.79\n",
            "Telefone: 4182565584\n"
          ],
          "name": "stdout"
        }
      ]
    },
    {
      "cell_type": "code",
      "metadata": {
        "colab": {
          "base_uri": "https://localhost:8080/"
        },
        "id": "k2IAI_eyEWz4",
        "outputId": "4f231fdb-757c-420f-9be9-8e8ac6c5a7b6"
      },
      "source": [
        "var_verdade = True\n",
        "var_falso = False\n",
        "\n",
        "print(type(var_verdade), type(var_falso))"
      ],
      "execution_count": null,
      "outputs": [
        {
          "output_type": "stream",
          "text": [
            "<class 'bool'> <class 'bool'>\n"
          ],
          "name": "stdout"
        }
      ]
    },
    {
      "cell_type": "code",
      "metadata": {
        "colab": {
          "base_uri": "https://localhost:8080/"
        },
        "id": "RWWEHZLXKds2",
        "outputId": "ff05a843-7d7b-4efd-fef2-30164875bc08"
      },
      "source": [
        "var_verdade = True\n",
        "var_falso = False\n",
        "\n",
        "print(var_falso)"
      ],
      "execution_count": null,
      "outputs": [
        {
          "output_type": "stream",
          "text": [
            "False\n"
          ],
          "name": "stdout"
        }
      ]
    },
    {
      "cell_type": "code",
      "metadata": {
        "colab": {
          "base_uri": "https://localhost:8080/"
        },
        "id": "dLW-ryhFKSJ9",
        "outputId": "94c56dc3-6239-4df9-abea-ba568687a0a7"
      },
      "source": [
        "var_verdade = True\n",
        "var_falso = False\n",
        "\n",
        "if var_verdade == True:\n",
        "    print('var_verdade é verdadeiro')"
      ],
      "execution_count": null,
      "outputs": [
        {
          "output_type": "stream",
          "text": [
            "var_verdade é verdadeiro\n"
          ],
          "name": "stdout"
        }
      ]
    },
    {
      "cell_type": "code",
      "metadata": {
        "colab": {
          "base_uri": "https://localhost:8080/"
        },
        "id": "Ym6j9bXjLMCO",
        "outputId": "959355c4-f61c-4815-f374-967f756b1e5c"
      },
      "source": [
        "1==1"
      ],
      "execution_count": null,
      "outputs": [
        {
          "output_type": "execute_result",
          "data": {
            "text/plain": [
              "True"
            ]
          },
          "metadata": {
            "tags": []
          },
          "execution_count": 12
        }
      ]
    },
    {
      "cell_type": "code",
      "metadata": {
        "colab": {
          "base_uri": "https://localhost:8080/"
        },
        "id": "LpsgCYMmLSst",
        "outputId": "2c13a20c-347c-44fb-ef05-416244393cfa"
      },
      "source": [
        "2==1"
      ],
      "execution_count": null,
      "outputs": [
        {
          "output_type": "execute_result",
          "data": {
            "text/plain": [
              "False"
            ]
          },
          "metadata": {
            "tags": []
          },
          "execution_count": 13
        }
      ]
    },
    {
      "cell_type": "code",
      "metadata": {
        "colab": {
          "base_uri": "https://localhost:8080/"
        },
        "id": "Dp6ZbNnmLV0v",
        "outputId": "a3fe187b-a5e8-4593-b681-a84a26d568a6"
      },
      "source": [
        "True == False"
      ],
      "execution_count": null,
      "outputs": [
        {
          "output_type": "execute_result",
          "data": {
            "text/plain": [
              "False"
            ]
          },
          "metadata": {
            "tags": []
          },
          "execution_count": 17
        }
      ]
    },
    {
      "cell_type": "code",
      "metadata": {
        "colab": {
          "base_uri": "https://localhost:8080/"
        },
        "id": "ouKTa4RpLd0d",
        "outputId": "f5cb865f-1f1f-4632-9002-5524dce83dc6"
      },
      "source": [
        "True == True"
      ],
      "execution_count": null,
      "outputs": [
        {
          "output_type": "execute_result",
          "data": {
            "text/plain": [
              "True"
            ]
          },
          "metadata": {
            "tags": []
          },
          "execution_count": 18
        }
      ]
    },
    {
      "cell_type": "code",
      "metadata": {
        "colab": {
          "base_uri": "https://localhost:8080/"
        },
        "id": "UGjEjFUULZw6",
        "outputId": "b411d4ba-d018-4e0e-a601-48601a4e9586"
      },
      "source": [
        "a = 2\n",
        "b = 20\n",
        "if a> b:\n",
        "  print(a,\" é maior do que\",b)\n",
        "else:\n",
        "  print(a,\"não é maior do que\",b)"
      ],
      "execution_count": null,
      "outputs": [
        {
          "output_type": "stream",
          "text": [
            "2 não é maior do que 20\n"
          ],
          "name": "stdout"
        }
      ]
    },
    {
      "cell_type": "code",
      "metadata": {
        "colab": {
          "base_uri": "https://localhost:8080/"
        },
        "id": "GLe5lr-1Tzbl",
        "outputId": "4f749b99-5221-4e56-ca69-b99f0e6ba220"
      },
      "source": [
        "a = 50\n",
        "b = 20\n",
        "if a> b and 'abacaxi' == 'uva':\n",
        "  print(a,\" é maior do que\",b)\n",
        "else:\n",
        "  print(a,\"não deu certo o if\",b)"
      ],
      "execution_count": null,
      "outputs": [
        {
          "output_type": "stream",
          "text": [
            "50 não deu certo o if 20\n"
          ],
          "name": "stdout"
        }
      ]
    },
    {
      "cell_type": "code",
      "metadata": {
        "colab": {
          "base_uri": "https://localhost:8080/"
        },
        "id": "xtO3fFidUol3",
        "outputId": "ac393189-df91-4153-fe15-40ecde580a95"
      },
      "source": [
        "print('Opções:\\n1 = Escreve guilherme\\n2 = escreve joao\\n3= escreve maria')\n",
        "opcao = input('Escolha uma opcao:')\n",
        "\n",
        "if opcao == '1':\n",
        "    print('Guilherme')\n",
        "if opcao == '2':\n",
        "    print('Joao')\n",
        "if opcao == '3':\n",
        "    print('Maria')"
      ],
      "execution_count": null,
      "outputs": [
        {
          "output_type": "stream",
          "text": [
            "Opções:\n",
            "1 = Escreve guilherme\n",
            "2 = escreve joao\n",
            "3= escreve maria\n",
            "Escolha uma opcao:2\n",
            "Joao\n"
          ],
          "name": "stdout"
        }
      ]
    },
    {
      "cell_type": "code",
      "metadata": {
        "colab": {
          "base_uri": "https://localhost:8080/"
        },
        "id": "su4AImg2VsIt",
        "outputId": "795e2317-820c-4674-e558-1d4b7f09cae5"
      },
      "source": [
        "print('Opções:\\n1 = Escreve guilherme\\n2 = escreve joao\\n3= escreve maria')\n",
        "opcao = input('Escolha uma opcao:')\n",
        "\n",
        "if opcao == '1':\n",
        "    print('Guilherme')\n",
        "elif opcao == '2':\n",
        "    print('Joao')\n",
        "elif opcao == '3':\n",
        "    print('Maria')\n",
        "else:\n",
        "    print('opcao invalida')"
      ],
      "execution_count": null,
      "outputs": [
        {
          "output_type": "stream",
          "text": [
            "Opções:\n",
            "1 = Escreve guilherme\n",
            "2 = escreve joao\n",
            "3= escreve maria\n",
            "Escolha uma opcao:9\n",
            "opcao invalida\n"
          ],
          "name": "stdout"
        }
      ]
    },
    {
      "cell_type": "code",
      "metadata": {
        "colab": {
          "base_uri": "https://localhost:8080/"
        },
        "id": "OQ43GnJpVsOk",
        "outputId": "dfa4217e-1068-4bae-e0c5-ffadfd1e122c"
      },
      "source": [
        "print(not True)"
      ],
      "execution_count": null,
      "outputs": [
        {
          "output_type": "stream",
          "text": [
            "False\n"
          ],
          "name": "stdout"
        }
      ]
    },
    {
      "cell_type": "code",
      "metadata": {
        "colab": {
          "base_uri": "https://localhost:8080/"
        },
        "id": "Iv4ZEvb-Wjhu",
        "outputId": "45d3ad31-1e33-44d0-c19f-ca32e8c38d92"
      },
      "source": [
        "print(not False)"
      ],
      "execution_count": null,
      "outputs": [
        {
          "output_type": "stream",
          "text": [
            "True\n"
          ],
          "name": "stdout"
        }
      ]
    },
    {
      "cell_type": "code",
      "metadata": {
        "colab": {
          "base_uri": "https://localhost:8080/"
        },
        "id": "zZlSX1h4WnWU",
        "outputId": "01eaf7ac-8ac5-47be-8f05-a8c7750a32eb"
      },
      "source": [
        "idade = 50\n",
        "if idade == 50:\n",
        "    print('Você tem 50 anos')\n",
        "else:\n",
        "    print('Você não tem 50 anos')"
      ],
      "execution_count": null,
      "outputs": [
        {
          "output_type": "stream",
          "text": [
            "Você tem 50 anos\n"
          ],
          "name": "stdout"
        }
      ]
    },
    {
      "cell_type": "code",
      "metadata": {
        "colab": {
          "base_uri": "https://localhost:8080/"
        },
        "id": "wEfS38ymW4XL",
        "outputId": "dcc82e5b-246e-4e4e-b7e1-77a534ec7929"
      },
      "source": [
        "if True:\n",
        "    print('entrou no if')\n",
        "else:\n",
        "    print('entrou no else')"
      ],
      "execution_count": null,
      "outputs": [
        {
          "output_type": "stream",
          "text": [
            "entrou no if\n"
          ],
          "name": "stdout"
        }
      ]
    },
    {
      "cell_type": "code",
      "metadata": {
        "colab": {
          "base_uri": "https://localhost:8080/"
        },
        "id": "A9PDQoCiXALy",
        "outputId": "33dffac5-0e62-4e43-afcf-60e5b4ba74a0"
      },
      "source": [
        "if not True:\n",
        "    print('entrou no if')\n",
        "else:\n",
        "    print('entrou no else')"
      ],
      "execution_count": null,
      "outputs": [
        {
          "output_type": "stream",
          "text": [
            "entrou no else\n"
          ],
          "name": "stdout"
        }
      ]
    },
    {
      "cell_type": "code",
      "metadata": {
        "id": "ACIWYf8vXWMJ"
      },
      "source": [
        "# Faça um programa que pergunte a idade , o peso e a altura de uma pessoa\n",
        "# e decide se  ela está apta a entrar no exercito é preciso ter:\n",
        "# mais de 18 anos, pesar mais ou igual a 60 kilos\n",
        "# e medir mais ou igual 1,70 metros"
      ],
      "execution_count": null,
      "outputs": []
    },
    {
      "cell_type": "code",
      "metadata": {
        "colab": {
          "base_uri": "https://localhost:8080/"
        },
        "id": "X5Cr50TsXtpq",
        "outputId": "7854e677-dc32-41b2-8150-cff88e9aee4a"
      },
      "source": [
        "idade = int(input('Quantos anos você tem? '))\n",
        "peso = float(input('Qual o seu peso? '))\n",
        "altura = float(input('Qual a sua altura? '))\n",
        "\n",
        "if idade >= 18 and peso <= 60 and altura >= 1.70:\n",
        "    print(\"Você está apto para o exercito\")\n",
        "else:\n",
        "    print(\"Você não está apto para o exercito\")\n",
        "\n",
        "\n"
      ],
      "execution_count": null,
      "outputs": [
        {
          "output_type": "stream",
          "text": [
            "Quantos anos você tem? 17\n",
            "Qual o seu peso? 60\n",
            "Qual a sua altura? 1.70\n",
            "Você não está apto para o exercito\n"
          ],
          "name": "stdout"
        }
      ]
    },
    {
      "cell_type": "code",
      "metadata": {
        "colab": {
          "base_uri": "https://localhost:8080/"
        },
        "id": "f3bxWPrOdXor",
        "outputId": "276ba0c7-ba6e-4da7-b604-15bbf00fd497"
      },
      "source": [
        "frase = 'oi, tudo bem'\n",
        "print(frase[0])"
      ],
      "execution_count": null,
      "outputs": [
        {
          "output_type": "stream",
          "text": [
            "o\n"
          ],
          "name": "stdout"
        }
      ]
    },
    {
      "cell_type": "code",
      "metadata": {
        "colab": {
          "base_uri": "https://localhost:8080/"
        },
        "id": "bLT3MJWn-Qq_",
        "outputId": "ac4849b3-a694-4cb9-858f-09a94001cbdd"
      },
      "source": [
        "frase = 'oi, tudo bem'\n",
        "print(frase[1])"
      ],
      "execution_count": null,
      "outputs": [
        {
          "output_type": "stream",
          "text": [
            "i\n"
          ],
          "name": "stdout"
        }
      ]
    },
    {
      "cell_type": "code",
      "metadata": {
        "colab": {
          "base_uri": "https://localhost:8080/"
        },
        "id": "p5j7YiGC-Thm",
        "outputId": "fb8854b2-85e5-40cf-963a-00b21036476d"
      },
      "source": [
        "frase = 'oi, tudo bem'\n",
        "lista_nomes = ['joao, maria, guilherme, diego']\n",
        "print(type(lista_nomes))"
      ],
      "execution_count": null,
      "outputs": [
        {
          "output_type": "stream",
          "text": [
            "<class 'list'>\n"
          ],
          "name": "stdout"
        }
      ]
    },
    {
      "cell_type": "code",
      "metadata": {
        "colab": {
          "base_uri": "https://localhost:8080/"
        },
        "id": "VouTEgOH-ixc",
        "outputId": "b8500773-a007-4e94-e725-639f22342c61"
      },
      "source": [
        "frase = 'oi, tudo bem'\n",
        "lista_nomes = ['joao', 'maria', 'guilherme', 'diego']\n",
        "\n",
        "print(lista_nomes[3])"
      ],
      "execution_count": null,
      "outputs": [
        {
          "output_type": "stream",
          "text": [
            "diego\n"
          ],
          "name": "stdout"
        }
      ]
    },
    {
      "cell_type": "code",
      "metadata": {
        "colab": {
          "base_uri": "https://localhost:8080/"
        },
        "id": "_z6VB9LB-0N9",
        "outputId": "85d6b6dd-350e-4c78-b925-c1acda31b2f2"
      },
      "source": [
        "frase = 'oi, tudo bem'\n",
        "lista_nomes = ['joao', 'maria', 'guilherme', 'diego']\n",
        "\n",
        "print(lista_nomes)"
      ],
      "execution_count": null,
      "outputs": [
        {
          "output_type": "stream",
          "text": [
            "['joao', 'maria', 'guilherme', 'diego']\n"
          ],
          "name": "stdout"
        }
      ]
    },
    {
      "cell_type": "code",
      "metadata": {
        "colab": {
          "base_uri": "https://localhost:8080/"
        },
        "id": "MrrkZMum-327",
        "outputId": "fc09297a-ce05-42ce-bc76-83d8303cd7c2"
      },
      "source": [
        "frase = 'oi, tudo bem'\n",
        "lista_nomes = ['joao', 'maria', 'guilherme', 'diego']\n",
        "\n",
        "print(frase[0:5])"
      ],
      "execution_count": null,
      "outputs": [
        {
          "output_type": "stream",
          "text": [
            "oi, t\n"
          ],
          "name": "stdout"
        }
      ]
    },
    {
      "cell_type": "code",
      "metadata": {
        "colab": {
          "base_uri": "https://localhost:8080/"
        },
        "id": "S9rc18RE-_sN",
        "outputId": "1c19118b-16c2-4795-93cb-8f4bf1069efa"
      },
      "source": [
        "frase = 'oi, tudo bem'\n",
        "lista_nomes = ['joao', 'maria', 'guilherme', 'diego']\n",
        "\n",
        "print(frase[0:5:2]) #[final/inicial/pular de quantos em quantos]"
      ],
      "execution_count": null,
      "outputs": [
        {
          "output_type": "stream",
          "text": [
            "o,t\n"
          ],
          "name": "stdout"
        }
      ]
    },
    {
      "cell_type": "code",
      "metadata": {
        "colab": {
          "base_uri": "https://localhost:8080/"
        },
        "id": "-srAUHIC_RyS",
        "outputId": "b3556a6e-9790-492b-f398-98a12f4921f4"
      },
      "source": [
        "frase = 'oi, tudo bem'\n",
        "lista_nomes = ['joao', 'maria', 'guilherme', 'diego']\n",
        "print(lista_nomes[0:3])"
      ],
      "execution_count": null,
      "outputs": [
        {
          "output_type": "stream",
          "text": [
            "['joao', 'maria', 'guilherme']\n"
          ],
          "name": "stdout"
        }
      ]
    },
    {
      "cell_type": "code",
      "metadata": {
        "colab": {
          "base_uri": "https://localhost:8080/"
        },
        "id": "LRiuHzHZ_eDZ",
        "outputId": "3653fb44-871b-4fb7-c0fa-a97d91f456b3"
      },
      "source": [
        "frase = 'oi, tudo bem'\n",
        "lista_nomes = ['joao', 'maria', 'guilherme', 'diego']\n",
        "print(lista_nomes[-2])"
      ],
      "execution_count": null,
      "outputs": [
        {
          "output_type": "stream",
          "text": [
            "guilherme\n"
          ],
          "name": "stdout"
        }
      ]
    },
    {
      "cell_type": "code",
      "metadata": {
        "colab": {
          "base_uri": "https://localhost:8080/"
        },
        "id": "ctOg2L2d_gpW",
        "outputId": "3d945dc4-bc36-4956-d0e3-98a59e22cb6a"
      },
      "source": [
        "frase = 'oi, tudo bem'\n",
        "lista_nomes = ['joao', 'maria', 'guilherme', 'diego']\n",
        "print(lista_nomes[-2:-4:-1])"
      ],
      "execution_count": null,
      "outputs": [
        {
          "output_type": "stream",
          "text": [
            "['guilherme', 'maria']\n"
          ],
          "name": "stdout"
        }
      ]
    },
    {
      "cell_type": "code",
      "metadata": {
        "colab": {
          "base_uri": "https://localhost:8080/"
        },
        "id": "jTuaSvwQ_pki",
        "outputId": "750d3aaa-3e82-445d-bedc-a62511e3357a"
      },
      "source": [
        "frase = 'oi, tudo bem'\n",
        "lista_nomes = ['joao', 'maria', 'guilherme', 'diego']\n",
        "print(lista_nomes[::-1])"
      ],
      "execution_count": null,
      "outputs": [
        {
          "output_type": "stream",
          "text": [
            "['diego', 'guilherme', 'maria', 'joao']\n"
          ],
          "name": "stdout"
        }
      ]
    },
    {
      "cell_type": "code",
      "metadata": {
        "colab": {
          "base_uri": "https://localhost:8080/"
        },
        "id": "3DK5oFOn_uDm",
        "outputId": "d9eb51a0-db18-4a1e-8ae0-b17b7bba265e"
      },
      "source": [
        "frase = 'oi, tudo bem'\n",
        "lista_nomes = ['joao', 'maria', 'guilherme', 'diego']\n",
        "lista_nomes.append('Geralda')\n",
        "\n",
        "print(lista_nomes)"
      ],
      "execution_count": null,
      "outputs": [
        {
          "output_type": "stream",
          "text": [
            "['joao', 'maria', 'guilherme', 'diego', 'Geralda']\n"
          ],
          "name": "stdout"
        }
      ]
    },
    {
      "cell_type": "code",
      "metadata": {
        "colab": {
          "base_uri": "https://localhost:8080/"
        },
        "id": "691eEmHN_6WA",
        "outputId": "3a1d581a-bceb-416d-cdd5-4182e5484874"
      },
      "source": [
        "frase = 'oi, tudo bem'\n",
        "lista_nomes = ['joao', 'maria', 'guilherme', 'diego']\n",
        "lista_nomes.append('Geralda')\n",
        "lista_nomes.remove('joao')\n",
        "\n",
        "print(lista_nomes)"
      ],
      "execution_count": null,
      "outputs": [
        {
          "output_type": "stream",
          "text": [
            "['maria', 'guilherme', 'diego', 'Geralda']\n"
          ],
          "name": "stdout"
        }
      ]
    },
    {
      "cell_type": "code",
      "metadata": {
        "colab": {
          "base_uri": "https://localhost:8080/"
        },
        "id": "yCE_o6EQCjI2",
        "outputId": "6da46364-1f87-4cf5-bca1-b980efffe825"
      },
      "source": [
        "frase = 'oi, tudo bem'\n",
        "lista_nomes = ['joao', 'maria', 'guilherme', 'diego']\n",
        "lista_nomes.append('Geralda')\n",
        "lista_nomes.remove('joao')\n",
        "lista_nomes.clear()\n",
        "\n",
        "print(lista_nomes)"
      ],
      "execution_count": null,
      "outputs": [
        {
          "output_type": "stream",
          "text": [
            "[]\n"
          ],
          "name": "stdout"
        }
      ]
    },
    {
      "cell_type": "code",
      "metadata": {
        "colab": {
          "base_uri": "https://localhost:8080/"
        },
        "id": "3Cmbqw2UADv3",
        "outputId": "3590bded-9cbe-4283-effd-4151cd44d571"
      },
      "source": [
        "frase = 'oi, tudo bem'\n",
        "lista_nomes = ['joao', 'maria', 'guilherme', 'diego']\n",
        "lista_nomes.insert(1,'Creosvaldo')\n",
        "\n",
        "print(lista_nomes)"
      ],
      "execution_count": null,
      "outputs": [
        {
          "output_type": "stream",
          "text": [
            "['joao', 'Creosvaldo', 'maria', 'guilherme', 'diego']\n"
          ],
          "name": "stdout"
        }
      ]
    },
    {
      "cell_type": "code",
      "metadata": {
        "colab": {
          "base_uri": "https://localhost:8080/"
        },
        "id": "-_Zca065Agpd",
        "outputId": "c9ed1a85-f37c-4705-da5f-7c5252c106b1"
      },
      "source": [
        "frase = 'oi, tudo bem'\n",
        "lista_nomes = ['joao', 'maria', 'guilherme', 'diego']\n",
        "lista_nomes[0] = 'robervania'\n",
        "\n",
        "print(lista_nomes)"
      ],
      "execution_count": null,
      "outputs": [
        {
          "output_type": "stream",
          "text": [
            "['robervania', 'maria', 'guilherme', 'diego']\n"
          ],
          "name": "stdout"
        }
      ]
    },
    {
      "cell_type": "code",
      "metadata": {
        "colab": {
          "base_uri": "https://localhost:8080/"
        },
        "id": "0v9igm36_uKY",
        "outputId": "95ba8ad4-bcdc-4025-e40e-9e4425b31223"
      },
      "source": [
        "frase = 'oi, tudo bem'\n",
        "lista_nomes = ['joao', 'maria', 'guilherme', 'diego']\n",
        "\n",
        "contador_joao = lista_nomes.count('joao')\n",
        "\n",
        "print(lista_nomes)\n",
        "print(contador_joao)"
      ],
      "execution_count": null,
      "outputs": [
        {
          "output_type": "stream",
          "text": [
            "['joao', 'maria', 'guilherme', 'diego']\n",
            "1\n"
          ],
          "name": "stdout"
        }
      ]
    },
    {
      "cell_type": "code",
      "metadata": {
        "colab": {
          "base_uri": "https://localhost:8080/"
        },
        "id": "yW4yn1_5FtNq",
        "outputId": "37a9e314-0321-472d-d833-08e2eae4a96b"
      },
      "source": [
        "frase = 'oi, tudo bem'\n",
        "lista_nomes = ['joao', 'maria', 'guilherme', 'diego']\n",
        "\n",
        "print(len(lista_nomes))"
      ],
      "execution_count": null,
      "outputs": [
        {
          "output_type": "stream",
          "text": [
            "4\n"
          ],
          "name": "stdout"
        }
      ]
    },
    {
      "cell_type": "code",
      "metadata": {
        "colab": {
          "base_uri": "https://localhost:8080/"
        },
        "id": "diJjbi_FGaTo",
        "outputId": "7e4c114c-5f2f-40e9-8dde-4b532b4f2fab"
      },
      "source": [
        "frase = 'oi, tudo bem'\n",
        "lista_nomes = ['joao', 'maria', 'guilherme', 'diego']\n",
        "\n",
        "frase_separada = frase.split(',')\n",
        "\n",
        "print(frase_separada)"
      ],
      "execution_count": null,
      "outputs": [
        {
          "output_type": "stream",
          "text": [
            "['oi', ' tudo bem']\n"
          ],
          "name": "stdout"
        }
      ]
    },
    {
      "cell_type": "code",
      "metadata": {
        "colab": {
          "base_uri": "https://localhost:8080/"
        },
        "id": "uUJTy_ONHj65",
        "outputId": "0cd5ef29-2d5f-4403-9b0e-0049649b2fdc"
      },
      "source": [
        "nomes = ['Guilherme','Marcelo','Joao','Julia']\n",
        "\n",
        "for nome in nomes:\n",
        "    print(nome)"
      ],
      "execution_count": null,
      "outputs": [
        {
          "output_type": "stream",
          "text": [
            "Guilherme\n",
            "Marcelo\n",
            "Joao\n",
            "Julia\n"
          ],
          "name": "stdout"
        }
      ]
    },
    {
      "cell_type": "code",
      "metadata": {
        "colab": {
          "base_uri": "https://localhost:8080/"
        },
        "id": "rjhsk_6kIP7b",
        "outputId": "e3b57b3a-cd45-4fcb-b2e0-26c4c89c81d6"
      },
      "source": [
        "lista_de_numeros = range(5)\n",
        "\n",
        "for item in lista_de_numeros:\n",
        "    print(item)"
      ],
      "execution_count": null,
      "outputs": [
        {
          "output_type": "stream",
          "text": [
            "0\n",
            "1\n",
            "2\n",
            "3\n",
            "4\n"
          ],
          "name": "stdout"
        }
      ]
    },
    {
      "cell_type": "code",
      "metadata": {
        "colab": {
          "base_uri": "https://localhost:8080/"
        },
        "id": "ta98qsTbIobJ",
        "outputId": "ab76111c-0239-41b2-96e6-836cbac8a749"
      },
      "source": [
        "lista_de_numeros = range(5,10,2)\n",
        "\n",
        "for item in lista_de_numeros:\n",
        "    print(item)"
      ],
      "execution_count": null,
      "outputs": [
        {
          "output_type": "stream",
          "text": [
            "5\n",
            "7\n",
            "9\n"
          ],
          "name": "stdout"
        }
      ]
    },
    {
      "cell_type": "code",
      "metadata": {
        "colab": {
          "base_uri": "https://localhost:8080/"
        },
        "id": "gam4nzU_JLu7",
        "outputId": "de034987-6d98-4d72-99e9-921f15e93cb5"
      },
      "source": [
        "nomes = ['Guilherme','Marcelo','Joao','Julia']\n",
        "\n",
        "for nome in range(len(nomes)):\n",
        "    print(nomes[nome])"
      ],
      "execution_count": null,
      "outputs": [
        {
          "output_type": "stream",
          "text": [
            "Guilherme\n",
            "Marcelo\n",
            "Joao\n",
            "Julia\n"
          ],
          "name": "stdout"
        }
      ]
    },
    {
      "cell_type": "code",
      "metadata": {
        "colab": {
          "base_uri": "https://localhost:8080/"
        },
        "id": "D_Dc3C7fJkYs",
        "outputId": "2e94bd8d-e33a-4826-8234-1e9e68e173fd"
      },
      "source": [
        "nomes = ['Guilherme','Marcelo','Joao','Julia']\n",
        "\n",
        "for nome in range(len(nomes)):\n",
        "    print(nomes[nome])\n",
        "    nomes.append('OII')\n",
        "    \n",
        "print(nomes)"
      ],
      "execution_count": null,
      "outputs": [
        {
          "output_type": "stream",
          "text": [
            "Guilherme\n",
            "Marcelo\n",
            "Joao\n",
            "Julia\n",
            "['Guilherme', 'Marcelo', 'Joao', 'Julia', 'OII', 'OII', 'OII', 'OII']\n"
          ],
          "name": "stdout"
        }
      ]
    },
    {
      "cell_type": "code",
      "metadata": {
        "colab": {
          "base_uri": "https://localhost:8080/"
        },
        "id": "0Op6NtRUJAOF",
        "outputId": "e529d746-604a-4185-fd1c-6f1db10d862b"
      },
      "source": [
        "palavra = 'guilherme junqueira'\n",
        "for letra in palavra:\n",
        "    print(letra)"
      ],
      "execution_count": null,
      "outputs": [
        {
          "output_type": "stream",
          "text": [
            "g\n",
            "u\n",
            "i\n",
            "l\n",
            "h\n",
            "e\n",
            "r\n",
            "m\n",
            "e\n",
            " \n",
            "j\n",
            "u\n",
            "n\n",
            "q\n",
            "u\n",
            "e\n",
            "i\n",
            "r\n",
            "a\n"
          ],
          "name": "stdout"
        }
      ]
    },
    {
      "cell_type": "code",
      "metadata": {
        "colab": {
          "base_uri": "https://localhost:8080/"
        },
        "id": "_JKdUz0NJ-0B",
        "outputId": "ca8acc4c-fd5c-48a5-877c-fcf8aba87730"
      },
      "source": [
        "qualquer_numero = 0\n",
        "while qualquer_numero < 10:\n",
        "    print('Este numero ainda é menor do que 10: ',qualquer_numero)\n",
        "    qualquer_numero = qualquer_numero + 1\n",
        "print('acabou o while: ',qualquer_numero)"
      ],
      "execution_count": null,
      "outputs": [
        {
          "output_type": "stream",
          "text": [
            "Este numero ainda é menor do que 10:  0\n",
            "Este numero ainda é menor do que 10:  1\n",
            "Este numero ainda é menor do que 10:  2\n",
            "Este numero ainda é menor do que 10:  3\n",
            "Este numero ainda é menor do que 10:  4\n",
            "Este numero ainda é menor do que 10:  5\n",
            "Este numero ainda é menor do que 10:  6\n",
            "Este numero ainda é menor do que 10:  7\n",
            "Este numero ainda é menor do que 10:  8\n",
            "Este numero ainda é menor do que 10:  9\n",
            "acabou o while:  10\n"
          ],
          "name": "stdout"
        }
      ]
    },
    {
      "cell_type": "code",
      "metadata": {
        "id": "IqHvat0OQb0R"
      },
      "source": [
        "n = 0\n",
        "while True:\n",
        " # print('loop infinito: ', n)\n",
        "  n = n + 1"
      ],
      "execution_count": null,
      "outputs": []
    },
    {
      "cell_type": "code",
      "metadata": {
        "colab": {
          "base_uri": "https://localhost:8080/"
        },
        "id": "pX8eklbeUyOp",
        "outputId": "2681609b-789d-4aea-c320-c4f56532e8dd"
      },
      "source": [
        "n = 0 # nesse momento o n é zero\n",
        "\n",
        "n = n + 10 # nesse momento ele soma com 10\n",
        "n = n + 10 # nesse momento ele soma 10 + 10\n",
        "\n",
        "print(n)"
      ],
      "execution_count": null,
      "outputs": [
        {
          "output_type": "stream",
          "text": [
            "20\n"
          ],
          "name": "stdout"
        }
      ]
    },
    {
      "cell_type": "code",
      "metadata": {
        "colab": {
          "base_uri": "https://localhost:8080/"
        },
        "id": "O2W3n7uNVLs4",
        "outputId": "3aaf4f66-ac43-4cc6-b50d-0ba5d26fb7ff"
      },
      "source": [
        "lista_frutas = ['maça', 'pera','uva','abacaxi','goiaba']\n",
        "print(len(lista_frutas))"
      ],
      "execution_count": null,
      "outputs": [
        {
          "output_type": "stream",
          "text": [
            "5\n"
          ],
          "name": "stdout"
        }
      ]
    },
    {
      "cell_type": "code",
      "metadata": {
        "colab": {
          "base_uri": "https://localhost:8080/"
        },
        "id": "R9s55os9Vi_d",
        "outputId": "19190a53-4c36-4932-d9a4-6b8767bcebc5"
      },
      "source": [
        "numero = 0\n",
        "\n",
        "while True:\n",
        "  print(numero)\n",
        "  if numero == 20:\n",
        "     break\n",
        "  numero+=1\n",
        "print('saiu do while')"
      ],
      "execution_count": null,
      "outputs": [
        {
          "output_type": "stream",
          "text": [
            "0\n",
            "1\n",
            "2\n",
            "3\n",
            "4\n",
            "5\n",
            "6\n",
            "7\n",
            "8\n",
            "9\n",
            "10\n",
            "11\n",
            "12\n",
            "13\n",
            "14\n",
            "15\n",
            "16\n",
            "17\n",
            "18\n",
            "19\n",
            "20\n",
            "saiu do while\n"
          ],
          "name": "stdout"
        }
      ]
    },
    {
      "cell_type": "code",
      "metadata": {
        "colab": {
          "base_uri": "https://localhost:8080/"
        },
        "id": "hdKIJJyqipMQ",
        "outputId": "4847c6ae-a6fe-4e3d-f23e-a54999fac8a1"
      },
      "source": [
        "print('Programa de controle festinha 1.0')\n",
        "\n",
        "numerodeconvidados = input(\"Quantas pessoas viram a festa?\")\n",
        "listadeconvidados = []\n",
        "\n",
        "n=1\n",
        "while n <= int(numerodeconvidados): #Ou use for n in range(int(numerodeconvidados))\n",
        "  nomes = input('Qual o nome dos convidados #'+ str(n) +': ')\n",
        "  listadeconvidados.append(nomes) \n",
        "  n += 1\n",
        "\n",
        "#opção 1 print(listadeconvidados) \n",
        "print('Serão', numerodeconvidados,'convidados')\n",
        "print('\\nLISTA DE CONVIDADOS')\n",
        "\n",
        "for convidado in listadeconvidados:\n",
        "  print(convidado)"
      ],
      "execution_count": null,
      "outputs": [
        {
          "output_type": "stream",
          "text": [
            "Programa de controle festinha 1.0\n",
            "Quantas pessoas viram a festa?3\n",
            "Qual o nome dos convidados #1: joao\n",
            "Qual o nome dos convidados #2: pedro\n",
            "Qual o nome dos convidados #3: gustavo\n",
            "Serão 3 convidados\n",
            "\n",
            "LISTA DE CONVIDADOS\n",
            "joao\n",
            "pedro\n",
            "gustavo\n"
          ],
          "name": "stdout"
        }
      ]
    },
    {
      "cell_type": "code",
      "metadata": {
        "colab": {
          "base_uri": "https://localhost:8080/"
        },
        "id": "nhpz-hFXfrfd",
        "outputId": "9ff09b1e-33ff-482d-9c7f-c62986b07dc7"
      },
      "source": [
        "minha_lista = ['gui','joao']  # lista\n",
        "print(minha_lista)\n",
        "print(minha_lista[1])\n",
        "print(minha_lista[0])"
      ],
      "execution_count": null,
      "outputs": [
        {
          "output_type": "stream",
          "text": [
            "['gui', 'joao']\n",
            "joao\n",
            "gui\n"
          ],
          "name": "stdout"
        }
      ]
    },
    {
      "cell_type": "code",
      "metadata": {
        "colab": {
          "base_uri": "https://localhost:8080/"
        },
        "id": "Om68WuK6gW_i",
        "outputId": "539d89e3-9f70-4f0e-e605-bf9fbcdf0cfd"
      },
      "source": [
        "minha_tupla = ('Gui','joao') # tupla(tuple)\n",
        "print(minha_lista)\n",
        "print(minha_lista[1])\n",
        "print(minha_lista[0])"
      ],
      "execution_count": null,
      "outputs": [
        {
          "output_type": "stream",
          "text": [
            "['gui', 'joao']\n",
            "joao\n",
            "gui\n"
          ],
          "name": "stdout"
        }
      ]
    },
    {
      "cell_type": "code",
      "metadata": {
        "colab": {
          "base_uri": "https://localhost:8080/"
        },
        "id": "NOSpMLQHgvIB",
        "outputId": "fc3d94a3-7551-4c7c-d0e0-7bf080092b1e"
      },
      "source": [
        "meu_dicionario = {'nome':'Guilherme','idade':'27'}\n",
        "print(meu_dicionario)"
      ],
      "execution_count": null,
      "outputs": [
        {
          "output_type": "stream",
          "text": [
            "{'nome': 'Guilherme', 'idade': '27'}\n"
          ],
          "name": "stdout"
        }
      ]
    },
    {
      "cell_type": "code",
      "metadata": {
        "colab": {
          "base_uri": "https://localhost:8080/"
        },
        "id": "z8ekqqKgnbVx",
        "outputId": "c1117a6e-46f0-482f-d083-289b750e5540"
      },
      "source": [
        "minha_tupla = ('Gui','joao') # tupla(tuple)\n",
        "for nome in minha_tupla:\n",
        "    print(nome)"
      ],
      "execution_count": null,
      "outputs": [
        {
          "output_type": "stream",
          "text": [
            "Gui\n",
            "joao\n"
          ],
          "name": "stdout"
        }
      ]
    },
    {
      "cell_type": "code",
      "metadata": {
        "colab": {
          "base_uri": "https://localhost:8080/"
        },
        "id": "ELESlLqWn1Zh",
        "outputId": "9c1f71a3-eeed-46cd-b444-97f2ca69c493"
      },
      "source": [
        "meu_dicionario = {'nome':'Guilherme','idade':'27'}\n",
        "print(meu_dicionario['nome']) #buscando o nome dentro da função dict usando chaves"
      ],
      "execution_count": null,
      "outputs": [
        {
          "output_type": "stream",
          "text": [
            "Guilherme\n"
          ],
          "name": "stdout"
        }
      ]
    },
    {
      "cell_type": "code",
      "metadata": {
        "colab": {
          "base_uri": "https://localhost:8080/"
        },
        "id": "Lf57buJ8oeym",
        "outputId": "201ab02c-2a2d-4f59-ee0b-5ae68e7aa16e"
      },
      "source": [
        "meu_dicionario = {'nome':'Guilherme','idade':'27'}\n",
        "print(len(meu_dicionario))  # contando valores dentro da função dict"
      ],
      "execution_count": null,
      "outputs": [
        {
          "output_type": "stream",
          "text": [
            "2\n"
          ],
          "name": "stdout"
        }
      ]
    },
    {
      "cell_type": "code",
      "metadata": {
        "colab": {
          "base_uri": "https://localhost:8080/"
        },
        "id": "BsOF0YbGpL0w",
        "outputId": "d789f97d-ff18-4e4c-ff8b-18b572d763bf"
      },
      "source": [
        "meu_dicionario = {'nome':'Guilherme','idade':'27'}\n",
        "\n",
        "for valores in meu_dicionario.values(): #trocando valores dentro da função dict\n",
        "    print(valores)"
      ],
      "execution_count": null,
      "outputs": [
        {
          "output_type": "stream",
          "text": [
            "Guilherme\n",
            "27\n"
          ],
          "name": "stdout"
        }
      ]
    },
    {
      "cell_type": "code",
      "metadata": {
        "colab": {
          "base_uri": "https://localhost:8080/"
        },
        "id": "dWn7z7Pxplfn",
        "outputId": "1ff5f7fb-5469-4022-e255-47857150a170"
      },
      "source": [
        "meu_dicionario = {'nome':'Guilherme','idade':'27'}\n",
        "meu_dicionario['nome'] = 'joao' #trocando guilherme por joao com a função dict\n",
        "\n",
        "print(meu_dicionario)"
      ],
      "execution_count": null,
      "outputs": [
        {
          "output_type": "stream",
          "text": [
            "{'nome': 'joao', 'idade': '27'}\n"
          ],
          "name": "stdout"
        }
      ]
    },
    {
      "cell_type": "code",
      "metadata": {
        "colab": {
          "base_uri": "https://localhost:8080/"
        },
        "id": "mwioRy3t2xXZ",
        "outputId": "3446e0e2-12ce-4910-b44c-f5c7653c13ff"
      },
      "source": [
        "meu_dicionario = {'gui':'Guilherme','idade':'27'}\n",
        "if 'gui' in meu_dicionario:\n",
        "    print('Foi encontrado dentro do dicionario')"
      ],
      "execution_count": null,
      "outputs": [
        {
          "output_type": "stream",
          "text": [
            "Foi encontrado dentro do dicionario\n"
          ],
          "name": "stdout"
        }
      ]
    },
    {
      "cell_type": "code",
      "metadata": {
        "colab": {
          "base_uri": "https://localhost:8080/"
        },
        "id": "vPfrEF0B4dNC",
        "outputId": "0a8a5d49-59dd-4610-dc69-2698802c5c31"
      },
      "source": [
        "def soma(numero1, numero2):\n",
        "  resp = numero1+ numero2\n",
        "  return resp\n",
        "\n",
        "retorno = soma(75.5,12.89)\n",
        "\n",
        "print(retorno)"
      ],
      "execution_count": null,
      "outputs": [
        {
          "output_type": "stream",
          "text": [
            "88.39\n"
          ],
          "name": "stdout"
        }
      ]
    },
    {
      "cell_type": "code",
      "metadata": {
        "colab": {
          "base_uri": "https://localhost:8080/"
        },
        "id": "MQYe586_5Xvr",
        "outputId": "edc98436-99bb-42c5-9a1e-479264c47ecd"
      },
      "source": [
        "def imprime_oi(): #toda vez que eu rodar o codigo ele imprime \"oi\"\n",
        "  print(\"OI\")\n",
        "\n",
        "imprime_oi()  "
      ],
      "execution_count": null,
      "outputs": [
        {
          "output_type": "stream",
          "text": [
            "OI\n"
          ],
          "name": "stdout"
        }
      ]
    },
    {
      "cell_type": "code",
      "metadata": {
        "colab": {
          "base_uri": "https://localhost:8080/"
        },
        "id": "Z_dimvAV6GN-",
        "outputId": "a1091647-3dff-4e48-d325-659b24be03fd"
      },
      "source": [
        "def tem_sete_letras(argumento):\n",
        "  if len(argumento) == 7:\n",
        "    return True\n",
        "  else:\n",
        "    return False\n",
        "\n",
        "if tem_sete_letras('ronnan'):\n",
        "    print('Realmente tem sete letras')\n",
        "else:\n",
        "    print('Não tem sete letras')"
      ],
      "execution_count": null,
      "outputs": [
        {
          "output_type": "stream",
          "text": [
            "Não tem sete letras\n"
          ],
          "name": "stdout"
        }
      ]
    },
    {
      "cell_type": "code",
      "metadata": {
        "colab": {
          "base_uri": "https://localhost:8080/"
        },
        "id": "q-liW9vG7EvV",
        "outputId": "08fe3fe5-0049-4eb7-d557-1f26ba7e9813"
      },
      "source": [
        "def tem_sete_letras(argumento):\n",
        "  if len(argumento) == 7:\n",
        "    return True\n",
        "  else:\n",
        "    return False\n",
        "\n",
        "if tem_sete_letras('ronnann'):\n",
        "    print('Realmente tem sete letras')\n",
        "else:\n",
        "    print('Não tem sete letras')"
      ],
      "execution_count": null,
      "outputs": [
        {
          "output_type": "stream",
          "text": [
            "Realmente tem sete letras\n"
          ],
          "name": "stdout"
        }
      ]
    },
    {
      "cell_type": "code",
      "metadata": {
        "colab": {
          "base_uri": "https://localhost:8080/"
        },
        "id": "wDVDTISV73E7",
        "outputId": "dc9c00a9-ff17-4e02-f459-937629c21f1b"
      },
      "source": [
        "def maior(colecao):\n",
        "  maior_item = colecao[0]\n",
        "  for item in colecao:\n",
        "    if item > maior_item:\n",
        "        maior_item = item\n",
        "  return maior_item\n",
        "\n",
        "print(maior([1,2,3,0,120,4,5,6,7,8,9,10])) #podendo ser lista[] ou tupla()\n"
      ],
      "execution_count": null,
      "outputs": [
        {
          "output_type": "stream",
          "text": [
            "120\n"
          ],
          "name": "stdout"
        }
      ]
    },
    {
      "cell_type": "code",
      "metadata": {
        "colab": {
          "base_uri": "https://localhost:8080/"
        },
        "id": "yY4qorKR-bSY",
        "outputId": "0f852691-c92e-4f61-b408-dea55b236bc9"
      },
      "source": [
        "def menor(colecaomenor):\n",
        "  menor_item = colecaomenor[0]\n",
        "  for item in colecaomenor:\n",
        "      if item < menor_item:\n",
        "        menor_item = item\n",
        "  return menor_item\n",
        "\n",
        "print(menor([1,2,3.1,-10,3,4,5]))"
      ],
      "execution_count": null,
      "outputs": [
        {
          "output_type": "stream",
          "text": [
            "-10\n"
          ],
          "name": "stdout"
        }
      ]
    },
    {
      "cell_type": "code",
      "metadata": {
        "id": "giVrTTG_JwcC"
      },
      "source": [
        "import sys \n",
        "argumentos = sys.argv\n",
        "\n",
        "def soma(n1,n2):\n",
        "    return n1 + n2\n",
        "\n",
        "def sub(n1,n2):\n",
        "    return n1 - n2\n",
        "\n",
        "if argumentos[1] == 'soma':\n",
        "    resp = soma(float(argumentos[2]),float(argumentos[3]))\n",
        "elif argumentos[1] == 'sub':\n",
        "    resp = sub(float(argumento[2]),float(argumentos[3]))\n",
        "\n",
        "print(resp)\n"
      ],
      "execution_count": null,
      "outputs": []
    },
    {
      "cell_type": "code",
      "metadata": {
        "id": "p9qai6TQblr-"
      },
      "source": [
        "class Veiculo:\n",
        "\n",
        "  def __init__(self,cor,rodas,marca):\n",
        "      self.cor = cor\n",
        "      self.rodas = rodas\n",
        "      self.marca = marca\n",
        "      self.tanque = tanque\n",
        "\n",
        "from veiculo import Veiculo # utilizar aba main do pycharm\n",
        "caminhao_rosa = Veiculo('rosa',6,'ford',10) \n",
        "\n",
        "print(caminhao_rosa)\n",
        "print(\"Cor: \", caminhao_rosa.cor)\n",
        "print(\"Marca: \"caminhao_rosa.marca)\n",
        "print(\"Tanque: \"caminhao_rosa.marca)\n",
        "\n",
        "carro_azul = veiculo('azul, 4, 'bmw', 30)\n",
        "\n",
        "print(carro_azul)\n",
        "print(\"Cor: \", carro_azul.cor)\n",
        "print(\"Marca: \"carro_azul.marca)\n",
        "print(\"Tanque: \"carro_azul.marca)\n",
        "\n"
      ],
      "execution_count": null,
      "outputs": []
    },
    {
      "cell_type": "code",
      "metadata": {
        "id": "HJ9nSts_N7dU",
        "colab": {
          "base_uri": "https://localhost:8080/"
        },
        "outputId": "1e18cdf2-ced9-4baa-c6e6-7d9cc0870a30"
      },
      "source": [
        "arquivo = open('arquivo.txt', 'w')\n",
        "\n",
        "arquivo.write(\"E ai pessoal,blz?\")"
      ],
      "execution_count": null,
      "outputs": [
        {
          "output_type": "execute_result",
          "data": {
            "text/plain": [
              "17"
            ]
          },
          "metadata": {},
          "execution_count": 44
        }
      ]
    },
    {
      "cell_type": "code",
      "metadata": {
        "id": "WFhczm7oYeKp"
      },
      "source": [
        "arquivocontar = open('arquivocontar.txt', 'w')\n",
        "\n",
        "for n in range(1, 1000):\n",
        "  arquivocontar.write(str(n)+\"\\n\") "
      ],
      "execution_count": null,
      "outputs": []
    },
    {
      "cell_type": "code",
      "metadata": {
        "colab": {
          "base_uri": "https://localhost:8080/"
        },
        "id": "H0s8HG9-f481",
        "outputId": "4ef2a0d3-83f2-4451-b5da-0bfbdf1e9073"
      },
      "source": [
        "try:\n",
        "    a = 1200 / 0\n",
        "except:\n",
        "    print(\"Divisão por zero, não da pra fazer\")\n",
        "    print(\"Pode imprimir varias exceções\")\n"
      ],
      "execution_count": null,
      "outputs": [
        {
          "output_type": "stream",
          "text": [
            "Divisão por zero, não da pra fazer\n",
            "Pode imprimir varias exceções\n"
          ],
          "name": "stdout"
        }
      ]
    },
    {
      "cell_type": "code",
      "metadata": {
        "colab": {
          "base_uri": "https://localhost:8080/"
        },
        "id": "ghHqJvdbjS8b",
        "outputId": "96070238-4d18-4648-b4a7-17f43870e810"
      },
      "source": [
        "try:\n",
        "    a = 1200 / 0\n",
        "except ZeroDivisionError:\n",
        "    print(\"Divisão por zero, não da pra fazer\")\n",
        "\n"
      ],
      "execution_count": null,
      "outputs": [
        {
          "output_type": "stream",
          "text": [
            "Divisão por zero, não da pra fazer\n"
          ],
          "name": "stdout"
        }
      ]
    },
    {
      "cell_type": "code",
      "metadata": {
        "colab": {
          "base_uri": "https://localhost:8080/"
        },
        "id": "7VxZ1472jkyn",
        "outputId": "d5b60fc9-e8f7-451d-fd74-3063585cfc85"
      },
      "source": [
        "try:\n",
        "    a = 1200 / A\n",
        "except NameError:\n",
        "    print(\"Divisão por zero, não da pra fazer\")"
      ],
      "execution_count": null,
      "outputs": [
        {
          "output_type": "stream",
          "text": [
            "Divisão por zero, não da pra fazer\n"
          ],
          "name": "stdout"
        }
      ]
    },
    {
      "cell_type": "code",
      "metadata": {
        "colab": {
          "base_uri": "https://localhost:8080/"
        },
        "id": "C1yI-iFatJ3l",
        "outputId": "9de6183e-8b35-45e2-811c-675df54123c7"
      },
      "source": [
        "try:\n",
        "    a = 1200 / A\n",
        "except Exception as erro:\n",
        "    print(\"Aconteceu alguma coisa: \", erro)"
      ],
      "execution_count": null,
      "outputs": [
        {
          "output_type": "stream",
          "text": [
            "Aconteceu alguma coisa:  name 'A' is not defined\n"
          ],
          "name": "stdout"
        }
      ]
    },
    {
      "cell_type": "code",
      "metadata": {
        "id": "EH9A8F9GtIra"
      },
      "source": [
        "import time\n",
        "\n",
        "def abre_arquivo():\n",
        "    try:  \n",
        "      arquivo = open('arquivodoido.txt')\n",
        "      return False\n",
        "    except Exception as erro:\n",
        "        print(\"aconteceu alguma erro: \",erro)\n",
        "        return False\n",
        "\n",
        "while not abre_arquivo():\n",
        "    print('Tentando abrir o arquivo')\n",
        "    time.sleep(5)\n",
        "\n",
        "print('Conseguir abrir o arquivo')"
      ],
      "execution_count": null,
      "outputs": []
    },
    {
      "cell_type": "code",
      "metadata": {
        "id": "bW6s9N9px-M7",
        "colab": {
          "base_uri": "https://localhost:8080/"
        },
        "outputId": "7a2fa2ea-abd3-492d-8b94-72eec4335f70"
      },
      "source": [
        "import requests\n",
        "url = 'https://solyd.com.br'\n",
        " \n",
        "# Connect to the url using requests.get\n",
        "response = requests.get(url)\n",
        "response.status_code\n"
      ],
      "execution_count": null,
      "outputs": [
        {
          "output_type": "execute_result",
          "data": {
            "text/plain": [
              "200"
            ]
          },
          "metadata": {},
          "execution_count": 31
        }
      ]
    },
    {
      "cell_type": "code",
      "metadata": {
        "colab": {
          "base_uri": "https://localhost:8080/"
        },
        "id": "vWMmzR3vDCcE",
        "outputId": "5d2b6a9d-42ec-4e71-f3f7-b6985d316b09"
      },
      "source": [
        "import requests\n",
        "url = 'https://en.wikipedia.org/wiki/Stock_market'\n",
        " \n",
        "# Connect to the url using requests.get\n",
        "resposta = requests.get(url)\n",
        "resposta.status_code\n",
        "\n",
        "print('link seguinte: ' + str(resposta.status_code))\n",
        "#if resposta.status_code == 404:\n",
        "  #print('teste')\n",
        "\n",
        "#elif resposta.status_code == 200:\n",
        "  #print('OK')  "
      ],
      "execution_count": null,
      "outputs": [
        {
          "output_type": "stream",
          "text": [
            "link seguinte: 200\n"
          ],
          "name": "stdout"
        }
      ]
    },
    {
      "cell_type": "code",
      "metadata": {
        "colab": {
          "base_uri": "https://localhost:8080/"
        },
        "id": "D41gYX0aGzTp",
        "outputId": "1302cb06-e2f5-4b29-ad21-a9f30db9f310"
      },
      "source": [
        "import requests\n",
        "\n",
        "url = 'https://g1.globox.com'\n",
        "\n",
        "try:\n",
        "    requisicao = requests.get(url)\n",
        "    print(requisicao.text)\n",
        "\n",
        "except Exception as e:\n",
        "    print(\"Requisição deu erro: \", e)\n",
        "\n"
      ],
      "execution_count": null,
      "outputs": [
        {
          "output_type": "stream",
          "text": [
            "Requisição deu erro:  HTTPSConnectionPool(host='g1.globox.com', port=443): Max retries exceeded with url: / (Caused by NewConnectionError('<urllib3.connection.VerifiedHTTPSConnection object at 0x7fd5693df610>: Failed to establish a new connection: [Errno -2] Name or service not known'))\n"
          ],
          "name": "stdout"
        }
      ]
    },
    {
      "cell_type": "code",
      "metadata": {
        "id": "eUueoE0lRqCJ"
      },
      "source": [
        "import requests\n",
        "\n",
        "url = 'https://g1.globo.com/'\n",
        "texto = None\n",
        "\n",
        "try:\n",
        "  requisicao = requests.get(url)\n",
        "  texto = requisicao.text\n",
        "except Exception as e:\n",
        "    print(r\"Requisição deu erro: \", e)\n",
        "\n",
        "print(texto)"
      ],
      "execution_count": null,
      "outputs": []
    },
    {
      "cell_type": "code",
      "metadata": {
        "colab": {
          "base_uri": "https://localhost:8080/"
        },
        "id": "jSsSDb0GTu1T",
        "outputId": "760e574c-747e-468d-ee69-1b8490e4908a"
      },
      "source": [
        "import requests\n",
        "\n",
        "cabecalho = {'User-agent': 'Windows 12oi','Referer':'https://google.com','CF.Ipcountry': 'BRAZIL'}\n",
        "\n",
        "url = 'https://putsreq.com/zHaAQxQuQJTHMP101aqA'\n",
        "texto = None\n",
        "\n",
        "try:\n",
        "  requisicao = requests.post(url,headers=cabecalho)\n",
        "  texto = requisicao.text\n",
        "except Exception as e:\n",
        "    print(r\"Requisição deu erro: \", e)\n",
        "\n",
        "print(texto)"
      ],
      "execution_count": null,
      "outputs": [
        {
          "output_type": "stream",
          "text": [
            "Hello World\n"
          ],
          "name": "stdout"
        }
      ]
    },
    {
      "cell_type": "code",
      "metadata": {
        "id": "R2W2WQ3JWDCn"
      },
      "source": [
        " import requests\n",
        " import json\n",
        "\n",
        " req = None\n",
        " url = 'http://www.omdbapi.com/?t=fast+and+furious'\n",
        "\n",
        " try:\n",
        "   req = requests.get(url)\n",
        "\n",
        "except:\n",
        "  print('Erro na conexão')\n",
        "  exit()\n",
        "\n",
        "print(req.text)"
      ],
      "execution_count": null,
      "outputs": []
    },
    {
      "cell_type": "code",
      "metadata": {
        "colab": {
          "base_uri": "https://localhost:8080/"
        },
        "id": "gQfhYYi_iQ0Z",
        "outputId": "1b936dfa-2f4a-4529-b2f4-bc644d4dda7f"
      },
      "source": [
        "#regular expression\n",
        "#expressão regular\n",
        "import re\n",
        "string_de_teste = 'o gato é bonito'\n",
        "  \n",
        "padrao = re.search(r'gat',string_de_teste) # r - Raw string = string crua\n",
        "\n",
        "if padrao:\n",
        "  print(padrao.group())\n",
        "else:\n",
        "  print(\"Padrão não encontrado\")\n"
      ],
      "execution_count": null,
      "outputs": [
        {
          "output_type": "stream",
          "text": [
            "gato\n"
          ],
          "name": "stdout"
        }
      ]
    },
    {
      "cell_type": "code",
      "metadata": {
        "colab": {
          "base_uri": "https://localhost:8080/"
        },
        "id": "BhoojurmlO9n",
        "outputId": "9a72baf9-1647-46ae-d8c8-056fa6d15fc3"
      },
      "source": [
        "#regular expression\n",
        "#expressão regular https://regex101.com/ use este site para testar\n",
        "import re\n",
        "string_de_teste = 'o gato, a gata, os gatinhos, os gatões'\n",
        "  \n",
        "padrao = re.findall(r'gat\\w+',string_de_teste) # r - Raw string = string crua\n",
        "\n",
        "if padrao:\n",
        "  print(padrao)\n",
        "else:\n",
        "  print(\"Padrão não encontrado\")"
      ],
      "execution_count": null,
      "outputs": [
        {
          "output_type": "stream",
          "text": [
            "['gato', 'gata', 'gatinhos', 'gatões']\n"
          ],
          "name": "stdout"
        }
      ]
    },
    {
      "cell_type": "code",
      "metadata": {
        "colab": {
          "base_uri": "https://localhost:8080/"
        },
        "id": "ck_Ez9Igo3lM",
        "outputId": "8eecf747-3698-4c00-b33a-1e75a599dccc"
      },
      "source": [
        "#regular expression\n",
        "#expressão regular https://regex101.com/ use este site para testar\n",
        "import re\n",
        "import requests\n",
        "url = 'https://www.google.com/search?q=suporte+netshoes&rlz=1C1GCEU_pt-BR&sxsrf=ALeKk00o5M9obcWhoGfj9r_TiYmKc-WwIA%3A1629380829073&ei=3WAeYdvYA-rc1sQPgOG36AI&oq=suporte+netshoes&gs_lcp=Cgdnd3Mtd2l6EAMyBQgAEIAEMgUIABCABDIGCAAQFhAeMgYIABAWEB4yBggAEBYQHjoHCCMQsAMQJzoHCAAQRxCwAzoNCC4QxwEQ0QMQsAMQQzoECCMQJzoICAAQgAQQsQNKBAhBGABQpxlY8h9g0CBoAXACeACAAasEiAGCDpIBCTAuMi40LjUtMZgBAKABAcgBCsABAQ&sclient=gws-wiz&ved=0ahUKEwibu5TMnL3yAhVqrpUCHYDwDS0Q4dUDCA4&uact=5'\n",
        "\n",
        "requisicao = requests.get(url)\n",
        "  \n",
        "padrao = re.findall(r'[\\w\\.-]+@[\\w-]+\\.[\\w+\\.-]+', requisicao.text) # r - Raw string = string crua\n",
        "\n",
        "if padrao:\n",
        "  print(padrao)\n",
        "else:\n",
        "  print(\"Padrão não encontrado\")\n"
      ],
      "execution_count": null,
      "outputs": [
        {
          "output_type": "stream",
          "text": [
            "['sac@netshoes.com.br.']\n"
          ],
          "name": "stdout"
        }
      ]
    },
    {
      "cell_type": "code",
      "metadata": {
        "id": "O6KOTgqcs9bP"
      },
      "source": [
        "import requests\n",
        "import json #importando biblioteca json\n",
        "import time\n",
        "import datetime\n",
        "url = 'https://economia.awesomeapi.com.br/last/USD-BRL,EUR-BRL,BTC-BRL'\n",
        "\n",
        "while True:\n",
        "  time.sleep(5)\n",
        "  requisicao = requests.get(url)\n",
        "\n",
        "  cotacao = json.loads(requisicao.text)\n",
        "  print('#### COTAÇÂO DO DIA ###', datetime.datetime.now())\n",
        "  print('Moeda:', cotacao['USDBRL']['code'],'\\n''Valor:',cotacao['USDBRL']['high'])\n"
      ],
      "execution_count": null,
      "outputs": []
    },
    {
      "cell_type": "code",
      "source": [
        "# API PARA COTAÇÃO DO BITCOIN A CADA 1 MINUTO\n",
        "import requests\n",
        "import json #importando biblioteca json\n",
        "import time\n",
        "import datetime\n",
        "url = 'https://economia.awesomeapi.com.br/last/USD-BRL,EUR-BRL,BTC-BRL'\n",
        "\n",
        "while True:\n",
        "  time.sleep(5)\n",
        "  requisicao = requests.get(url)\n",
        "\n",
        "  cotacao = json.loads(requisicao.text)\n",
        "  print('#### COTAÇÂO DO DIA ###', datetime.datetime.now())\n",
        "  print('Moeda:', cotacao['BTCBRL']['code'],'\\n''Valor:',cotacao['BTCBRL']['high'])"
      ],
      "metadata": {
        "id": "llmBT9y71A6V",
        "colab": {
          "base_uri": "https://localhost:8080/",
          "height": 651
        },
        "outputId": "f79949b9-ba64-4453-d71a-3e1947631921"
      },
      "execution_count": null,
      "outputs": [
        {
          "output_type": "stream",
          "name": "stdout",
          "text": [
            "#### COTAÇÂO DO DIA ### 2022-05-18 16:06:36.876459\n",
            "Moeda: BTC \n",
            "Valor: 152.25\n",
            "#### COTAÇÂO DO DIA ### 2022-05-18 16:06:42.411256\n",
            "Moeda: BTC \n",
            "Valor: 152.25\n",
            "#### COTAÇÂO DO DIA ### 2022-05-18 16:06:47.946859\n",
            "Moeda: BTC \n",
            "Valor: 152.25\n",
            "#### COTAÇÂO DO DIA ### 2022-05-18 16:06:53.480442\n",
            "Moeda: BTC \n",
            "Valor: 152.25\n",
            "#### COTAÇÂO DO DIA ### 2022-05-18 16:06:59.015112\n",
            "Moeda: BTC \n",
            "Valor: 152.25\n",
            "#### COTAÇÂO DO DIA ### 2022-05-18 16:07:04.548858\n",
            "Moeda: BTC \n",
            "Valor: 152.25\n",
            "#### COTAÇÂO DO DIA ### 2022-05-18 16:07:10.265071\n",
            "Moeda: BTC \n",
            "Valor: 152.25\n",
            "#### COTAÇÂO DO DIA ### 2022-05-18 16:07:15.798644\n",
            "Moeda: BTC \n",
            "Valor: 152.25\n"
          ]
        },
        {
          "output_type": "error",
          "ename": "KeyboardInterrupt",
          "evalue": "ignored",
          "traceback": [
            "\u001b[0;31m---------------------------------------------------------------------------\u001b[0m",
            "\u001b[0;31mKeyboardInterrupt\u001b[0m                         Traceback (most recent call last)",
            "\u001b[0;32m<ipython-input-1-4806fbd79578>\u001b[0m in \u001b[0;36m<module>\u001b[0;34m()\u001b[0m\n\u001b[1;32m      7\u001b[0m \u001b[0;34m\u001b[0m\u001b[0m\n\u001b[1;32m      8\u001b[0m \u001b[0;32mwhile\u001b[0m \u001b[0;32mTrue\u001b[0m\u001b[0;34m:\u001b[0m\u001b[0;34m\u001b[0m\u001b[0;34m\u001b[0m\u001b[0m\n\u001b[0;32m----> 9\u001b[0;31m   \u001b[0mtime\u001b[0m\u001b[0;34m.\u001b[0m\u001b[0msleep\u001b[0m\u001b[0;34m(\u001b[0m\u001b[0;36m5\u001b[0m\u001b[0;34m)\u001b[0m\u001b[0;34m\u001b[0m\u001b[0;34m\u001b[0m\u001b[0m\n\u001b[0m\u001b[1;32m     10\u001b[0m   \u001b[0mrequisicao\u001b[0m \u001b[0;34m=\u001b[0m \u001b[0mrequests\u001b[0m\u001b[0;34m.\u001b[0m\u001b[0mget\u001b[0m\u001b[0;34m(\u001b[0m\u001b[0murl\u001b[0m\u001b[0;34m)\u001b[0m\u001b[0;34m\u001b[0m\u001b[0;34m\u001b[0m\u001b[0m\n\u001b[1;32m     11\u001b[0m \u001b[0;34m\u001b[0m\u001b[0m\n",
            "\u001b[0;31mKeyboardInterrupt\u001b[0m: "
          ]
        }
      ]
    },
    {
      "cell_type": "code",
      "metadata": {
        "id": "l0uogCc2UzBm"
      },
      "source": [
        "import requests\n",
        "import json #importando biblioteca json\n",
        "import time\n",
        "nome_cidade = input(\"Digite o Nome da Cidade: \")\n",
        "outro = nome_cidade\n",
        "\n",
        "while True:\n",
        "  requisicao = requests.get('https://api.hgbrasil.com/weather?array_limit=2&fields=only_results,temp,'+str(nome_cidade)+',forecast,max,min,date&key=18420e13')\n",
        "  nome_cidade = json.loads(requisicao.text)\n",
        "  print('#### Clima Hoje ###')\n",
        "  print(outro)\n",
        "  print('Data:', nome_cidade[\"date\"])\n",
        "  print('Temperatura:', nome_cidade[\"temp\"])\n",
        "  print('Previsão:', nome_cidade[\"forecast\"])\n",
        "  time.sleep(3600)\n",
        "\n"
      ],
      "execution_count": null,
      "outputs": []
    },
    {
      "cell_type": "code",
      "metadata": {
        "id": "EqVqQNgwaf7g"
      },
      "source": [
        "#Exercicio Murilo\n",
        "#Solicitar 3 notas\n",
        "#Calcular media \n",
        "#Se media for abaixo de 6 reprovado\n",
        "#Se media for igual ou superior a 6 aprovado\n",
        "\n",
        "nota1 = int(input(\"Digite a sua primeira nota: \"))\n",
        "nota2 = int(input(\"Digite a sua segunda nota: \"))\n",
        "nota3 = int(input(\"Digite a sua terceira nota: \"))\n",
        "\n",
        "calcular_media = ((nota1+nota2+nota3)/3)\n",
        "\n",
        "if calcular_media < 6:\n",
        "  print(\"Você foi reprovado\")\n",
        "else:\n",
        "  print(\"Parabens!!! você foi aprovado\")\n",
        "\n",
        "\n",
        "\n",
        "\n"
      ],
      "execution_count": null,
      "outputs": []
    },
    {
      "cell_type": "code",
      "metadata": {
        "colab": {
          "base_uri": "https://localhost:8080/"
        },
        "id": "3vqtAFBsYipi",
        "outputId": "2913560e-c5f1-4583-a75b-b4d38db2fd16"
      },
      "source": [
        "print(\"Hello World\") ## incio do curso da Cisco (uninter)"
      ],
      "execution_count": null,
      "outputs": [
        {
          "output_type": "stream",
          "name": "stdout",
          "text": [
            "Hello World\n"
          ]
        }
      ]
    },
    {
      "cell_type": "code",
      "metadata": {
        "colab": {
          "base_uri": "https://localhost:8080/"
        },
        "id": "mLwucSVvNQPz",
        "outputId": "80b27253-951f-4cf0-f174-b6f269060c9f"
      },
      "source": [
        "print(2 ** 2 ** 3)"
      ],
      "execution_count": null,
      "outputs": [
        {
          "output_type": "stream",
          "name": "stdout",
          "text": [
            "256\n"
          ]
        }
      ]
    },
    {
      "cell_type": "markdown",
      "metadata": {
        "id": "9Uxjv8lygIeb"
      },
      "source": [
        "![image.png](data:image/png;base64,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)"
      ]
    },
    {
      "cell_type": "code",
      "metadata": {
        "colab": {
          "base_uri": "https://localhost:8080/"
        },
        "id": "3Zl_T8tZfQea",
        "outputId": "c096a966-0ad2-4106-dfd5-a340bfb6d147"
      },
      "source": [
        "x = float(input(\"Enter value for x: \"))\n",
        "\n",
        "d = x + (1/x)\n",
        "c = x + 1/d\n",
        "b = x + 1/c\n",
        "a = 1/b\n",
        "\n",
        "y = a\n",
        "\n",
        "\n",
        "# Write your code here.\n",
        "\n",
        "print(\"y =\", y)"
      ],
      "execution_count": null,
      "outputs": [
        {
          "output_type": "stream",
          "name": "stdout",
          "text": [
            "Enter value for x: 10\n",
            "y = 0.09901951266867294\n"
          ]
        }
      ]
    },
    {
      "cell_type": "code",
      "metadata": {
        "colab": {
          "base_uri": "https://localhost:8080/"
        },
        "id": "10ZRFtaiqIiM",
        "outputId": "8cddede2-a987-4ce6-d29a-b63606b98299"
      },
      "source": [
        "x = input()\n",
        "y = input()\n",
        "print( x + y) \n"
      ],
      "execution_count": null,
      "outputs": [
        {
          "output_type": "stream",
          "name": "stdout",
          "text": [
            "2\n",
            "4\n",
            "24\n"
          ]
        }
      ]
    },
    {
      "cell_type": "code",
      "metadata": {
        "id": "NvC93oqnudw6"
      },
      "source": [
        "x = int(input())\n",
        "y = int(input())\n",
        "\n",
        "x = x // y\n",
        "y = y // x\n",
        "print(y)"
      ],
      "execution_count": null,
      "outputs": []
    },
    {
      "cell_type": "code",
      "metadata": {
        "colab": {
          "base_uri": "https://localhost:8080/"
        },
        "id": "8uUx_Vsbu8cH",
        "outputId": "04dcb453-70d5-4154-9d12-9ef13f4839d6"
      },
      "source": [
        "z = y = x = 1\n",
        "print(z, y ,x, sep='*')"
      ],
      "execution_count": null,
      "outputs": [
        {
          "output_type": "stream",
          "name": "stdout",
          "text": [
            "1*1*1\n"
          ]
        }
      ]
    },
    {
      "cell_type": "code",
      "metadata": {
        "colab": {
          "base_uri": "https://localhost:8080/"
        },
        "id": "T2zyVzOkwKoV",
        "outputId": "aeb023b8-27da-4e5b-fed0-1fa3d3113d74"
      },
      "source": [
        "x = int(input())\n",
        "y = int(input())\n",
        "\n",
        "x = x % y\n",
        "x = x % y\n",
        "y = y % x\n",
        "\n",
        "print(y)\n",
        "\n"
      ],
      "execution_count": null,
      "outputs": [
        {
          "output_type": "stream",
          "name": "stdout",
          "text": [
            "11\n",
            "4\n",
            "1\n"
          ]
        }
      ]
    },
    {
      "cell_type": "code",
      "metadata": {
        "colab": {
          "base_uri": "https://localhost:8080/"
        },
        "id": "b8cosqyDx5VE",
        "outputId": "9326c77c-182d-4926-ef5a-8b2baada3130"
      },
      "source": [
        "2+3*5."
      ],
      "execution_count": null,
      "outputs": [
        {
          "output_type": "execute_result",
          "data": {
            "text/plain": [
              "17.0"
            ]
          },
          "metadata": {},
          "execution_count": 15
        }
      ]
    },
    {
      "cell_type": "markdown",
      "metadata": {
        "id": "CSa1qpN_NMA4"
      },
      "source": [
        "![image.png](data:image/png;base64,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)"
      ]
    },
    {
      "cell_type": "code",
      "metadata": {
        "colab": {
          "base_uri": "https://localhost:8080/"
        },
        "id": "sbZ-A1kP7e70",
        "outputId": "52e1f53a-33a0-4de0-a699-6eff7989c8e3"
      },
      "source": [
        "plant = input(\"Qual o nome da planta deseja comprar: \")\n",
        "\n",
        "if plant == str(\"Girrassol\") :\n",
        "   print(\"Yes - Girrassol is the best plant ever!\")    \n",
        "elif plant == str(\"girrassol\") :\n",
        "   print(\"No, I want a big Girrassol!\")\n",
        "\n",
        "elif plant != str(\"girrassol\") and plant != str(\"Girrassol\"):\n",
        "   print(\"Girrassol! Not,\", plant)"
      ],
      "execution_count": null,
      "outputs": [
        {
          "output_type": "stream",
          "name": "stdout",
          "text": [
            "Qual o nome da planta deseja comprar: rosa\n",
            "Girrassol! Not, rosa\n"
          ]
        }
      ]
    },
    {
      "cell_type": "markdown",
      "metadata": {
        "id": "1YNSbmAtEM5C"
      },
      "source": [
        "![image.png](data:image/png;base64,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)"
      ]
    },
    {
      "cell_type": "markdown",
      "metadata": {
        "id": "4TcLNkbwESMe"
      },
      "source": [
        "![image.png](data:image/png;base64,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)"
      ]
    },
    {
      "cell_type": "code",
      "metadata": {
        "colab": {
          "base_uri": "https://localhost:8080/"
        },
        "id": "fId-9c2S6ABW",
        "outputId": "8e93fd36-52b2-4e8e-e880-5b0bb851facd"
      },
      "source": [
        "income = float(input(\"Enter the annual income: \"))\n",
        "imposto_alto = income*0.18 - 556.02\n",
        "imposto_normal = 14839.02+((income-85528)*0.32)\n",
        "if income <= float(85528):\n",
        "    tax = round(imposto_alto,0)\n",
        "    if tax > 0:\n",
        "       print(\"O imposto a ser pago é no total de:\", tax )\n",
        "    else:\n",
        "        print(\"Não há imposto para pagar!\")\n",
        "    \n",
        "elif income > float(85528):\n",
        "    tax = round(imposto_normal,0)\n",
        "    if tax > 0:\n",
        "        print(\"O imposto a ser pago é no total de:\", tax )\n",
        "    else:\n",
        "        print(\"Não há imposto para pagar!\")\n",
        "     \n"
      ],
      "execution_count": null,
      "outputs": [
        {
          "output_type": "stream",
          "name": "stdout",
          "text": [
            "Enter the annual income: 1000\n",
            "Não há imposto para pagar!\n"
          ]
        }
      ]
    },
    {
      "cell_type": "markdown",
      "metadata": {
        "id": "1eas95m68we5"
      },
      "source": [
        "![image.png](data:image/png;base64,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)"
      ]
    },
    {
      "cell_type": "code",
      "metadata": {
        "id": "EdLmJBAQ6nlU"
      },
      "source": [
        "secret_number = 777\n",
        "numero_da_sorte = int(input(\"Diga um numero para jogar: \"))\n",
        "while numero_da_sorte != secret_number:\n",
        "    print(\"Ha ha! Você está preso no meu loop! tente de novo:\")\n",
        "    numero_da_sorte = int(input(\"Diga um numero para jogar: \"))\n",
        "print(\"Muito bem, trouxa! Você está livre agora.\")\n",
        "print(\n",
        "\"\"\"\n",
        "+================================+\n",
        "| Welcome to my game, muggle!    |\n",
        "| Enter an integer number        |\n",
        "| and guess what number I've     |\n",
        "| picked for you.                |\n",
        "| So, what is the secret number? |\n",
        "+================================+\n",
        "\"\"\")"
      ],
      "execution_count": null,
      "outputs": []
    },
    {
      "cell_type": "code",
      "metadata": {
        "id": "mcN0ZCry8pa-"
      },
      "source": [
        "senha='2112'\n",
        "tentativa=input(\"Digite a senha:\")\n",
        "\n",
        "while (senha != tentativa):\n",
        "    print(\"Senha errada! Tente novamente!\")\n",
        "    tentativa=input(\"Digite a senha:\")\n",
        "\n",
        "print(\"Senha correta. Entrando no sistema...\")\n"
      ],
      "execution_count": null,
      "outputs": []
    },
    {
      "cell_type": "code",
      "metadata": {
        "colab": {
          "base_uri": "https://localhost:8080/"
        },
        "id": "4NigCjv5-fpU",
        "outputId": "3ea53fd7-7cdc-4447-e4fd-e5dd2227ed44"
      },
      "source": [
        "import time\n",
        "for n in range(5):\n",
        "  print(n,\"Mississippi\")\n",
        "time.sleep(5)"
      ],
      "execution_count": null,
      "outputs": [
        {
          "output_type": "stream",
          "name": "stdout",
          "text": [
            "0 Mississippi\n",
            "1 Mississippi\n",
            "2 Mississippi\n",
            "3 Mississippi\n",
            "4 Mississippi\n"
          ]
        }
      ]
    },
    {
      "cell_type": "code",
      "metadata": {
        "colab": {
          "base_uri": "https://localhost:8080/"
        },
        "id": "jYq7JhLHWZud",
        "outputId": "aaf20ab0-9bb8-4990-ff86-ef7a421af66c"
      },
      "source": [
        "i = 0\n",
        "while i < 5:\n",
        "    print(i)\n",
        "    i += 1\n",
        "else:\n",
        "    print(\"else:\", i)"
      ],
      "execution_count": null,
      "outputs": [
        {
          "output_type": "stream",
          "name": "stdout",
          "text": [
            "0\n",
            "1\n",
            "2\n",
            "3\n",
            "4\n",
            "else: 5\n"
          ]
        }
      ]
    },
    {
      "cell_type": "code",
      "metadata": {
        "colab": {
          "base_uri": "https://localhost:8080/"
        },
        "id": "0wtRN87UWkgn",
        "outputId": "ad1afe66-f7cc-4eae-8075-7df80f0ace66"
      },
      "source": [
        "for i in range(7):\n",
        "    print(i)\n",
        "else:\n",
        "    print(\"else:\", i)"
      ],
      "execution_count": null,
      "outputs": [
        {
          "output_type": "stream",
          "name": "stdout",
          "text": [
            "0\n",
            "1\n",
            "2\n",
            "3\n",
            "4\n",
            "5\n",
            "6\n",
            "else: 6\n"
          ]
        }
      ]
    },
    {
      "cell_type": "code",
      "metadata": {
        "colab": {
          "base_uri": "https://localhost:8080/"
        },
        "id": "9pMQ2CCgMdu3",
        "outputId": "ea3732f6-6448-475e-c683-f9ca8aa022e0"
      },
      "source": [
        "n = int(input(\"insira um valor: \"))\n",
        "if n < 100:\n",
        "    n=False\n",
        "    print(n)\n",
        "elif n >= 100:\n",
        "    n=True\n",
        "    print(n)"
      ],
      "execution_count": null,
      "outputs": [
        {
          "output_type": "stream",
          "name": "stdout",
          "text": [
            "insira um valor: 55\n",
            "False\n"
          ]
        }
      ]
    },
    {
      "cell_type": "code",
      "metadata": {
        "colab": {
          "base_uri": "https://localhost:8080/"
        },
        "id": "cD9pkYBpaSb-",
        "outputId": "1b0b90cb-f81c-4508-f66c-262713bed589"
      },
      "source": [
        "import math # funções matematicas\n",
        "\n",
        "print(math.pi) # retorna a função de Pi\n",
        "\n",
        "print(math.sqrt(42)) # retorna raiz quadrada\n",
        "\n",
        "c=5\n",
        "print(math.fabs(c)) #retorna o valor absoluto\n",
        "\n",
        "print(math.factorial(6)) #retorna um resultado fatorial\n",
        "\n",
        "print(math.log10(5))\n",
        "print(math.pow(2,4))\n",
        "\n",
        "d = 5/9.5\n",
        "print(math.ceil(d))\n",
        "print(math.floor(d))\n",
        "\n"
      ],
      "execution_count": null,
      "outputs": [
        {
          "output_type": "stream",
          "name": "stdout",
          "text": [
            "3.141592653589793\n",
            "6.48074069840786\n",
            "5.0\n",
            "720\n",
            "0.6989700043360189\n",
            "16.0\n",
            "1\n",
            "0\n"
          ]
        }
      ]
    },
    {
      "cell_type": "code",
      "metadata": {
        "colab": {
          "base_uri": "https://localhost:8080/"
        },
        "id": "IdR37xezavjE",
        "outputId": "568a05ea-4c92-4891-dbaa-77e1214a1610"
      },
      "source": [
        "import random # gerar um numero aleatorio\n",
        "\n",
        "print(random.random()) # gerar um numero qualquer aleatorio\n",
        "print(random.randint(1,25)) # gerar um numero inteiro aleatorio entre (x,y)\n",
        "print(random.choice([\"açai\",\" laranja\", \"mamão\", \"pera\", \"uva\", \"maçã\", \"goiaba\"])) # gerar palavras aleatorias a partir da lista\n",
        "print(random.choice([1,2, 3, 4,5, 6, 7])) # gerar numeros a partir da lista\n"
      ],
      "execution_count": null,
      "outputs": [
        {
          "output_type": "stream",
          "name": "stdout",
          "text": [
            "0.980164686974029\n",
            "6\n",
            "uva\n",
            "2\n"
          ]
        }
      ]
    },
    {
      "cell_type": "code",
      "metadata": {
        "colab": {
          "base_uri": "https://localhost:8080/"
        },
        "id": "nQUYz-OYg2Wx",
        "outputId": "571519ed-7728-4622-c38a-9077419a8df5"
      },
      "source": [
        "s = \"pizza\" #atribuição \n",
        "s1 = \"a,b,c,d,e,f,g,h\"\n",
        "x = len(s)  #contar quantas letras tem\n",
        "print(x)    #imprimir somente a quantidade contada\n",
        "print(s[:]) #imprimir a string inteira [:]\n",
        "print(s[1:4]) #imprimir somente periodo de letras [x:y]\n",
        "print(s[1:]) #imprimir somente periodo até o fim [x:]\n",
        "print(s[-5]) #imprimir de trás para frente [x]\n",
        "print(s+\" portuguesa\") #juntar strings\n",
        "print(s.find(\"iz\")) # localizar onde inicia a string\n",
        "print(s.replace(\"zza\",\"nhão\")) # substituição de caracteres\n",
        "print(s.upper()) #tudo em maiusculo\n",
        "print(s.lower()) #tudo em minusculo\n",
        "print(s.isalpha()) #teste(é só alfabeto?)\n",
        "print(s.isalnum()) #teste(é letras e numeros?)\n",
        "print(s.lstrip(\"p\")) #retorna removendo da esquerda pra direita, com regra (x)\n",
        "print(s.capitalize()) # retorna a primeira letra maiuscula\n",
        "print(s1.split(\",\")) #retorna os textos separados conforme regra (\"x\")\n",
        "\n",
        "\n",
        "nome = \"linux\"\n",
        "print(nome[0:3])\n",
        "\n",
        "\n"
      ],
      "execution_count": null,
      "outputs": [
        {
          "output_type": "stream",
          "name": "stdout",
          "text": [
            "5\n",
            "pizza\n",
            "izz\n",
            "izza\n",
            "p\n",
            "pizza portuguesa\n",
            "1\n",
            "pinhão\n",
            "PIZZA\n",
            "pizza\n",
            "True\n",
            "True\n",
            "izza\n",
            "Pizza\n",
            "['a', 'b', 'c', 'd', 'e', 'f', 'g', 'h']\n",
            "lin\n"
          ]
        }
      ]
    },
    {
      "cell_type": "code",
      "metadata": {
        "colab": {
          "base_uri": "https://localhost:8080/"
        },
        "id": "jsbkaV0iBCKG",
        "outputId": "9b935b6e-1405-4a86-f27a-437484e44b66"
      },
      "source": [
        "a = \"pizza\" # variavel comida\n",
        "b = 30 #variavel valor\n",
        "print(\"Gosto de {0}, mas {1} reais é caro para uma {0}!\".format(a,b)) #formatação que irá substituir por espaços em chaves."
      ],
      "execution_count": null,
      "outputs": [
        {
          "output_type": "stream",
          "name": "stdout",
          "text": [
            "Gosto de pizza, mas 30 reais é caro para uma pizza!\n"
          ]
        }
      ]
    },
    {
      "cell_type": "code",
      "metadata": {
        "id": "qRw1zLSXCSKI"
      },
      "source": [
        "a = input(\"insira uma comida: \") # variavel comida\n",
        "b = input(\"insira o valor: R$\") #variavel valor\n",
        "print(\"Gosto de {0}, mas {1} reais é caro demais para uma {0}!\".format(a,b)) #formatação que irá substituir por espaços em chaves."
      ],
      "execution_count": null,
      "outputs": []
    },
    {
      "cell_type": "code",
      "metadata": {
        "id": "K-W9WQczAwFy"
      },
      "source": [
        "l = [] # lista vazia\n",
        "l = [1,2,3,4,5] # lista comum\n",
        "l2 = [\"a\",\"b\",\"c\",\"D\",\"e\"] # lista comum com letras\n",
        "l = [\"a\",[\"a,b,c,d,e,f\"],\"b\"] #lista dentro de lista\n",
        "\n",
        "print(l2+l) #concatenar listas\n",
        "print(l*2) # multiplicar x vezes a lista\n",
        "\"a\" in l # procurar x dentro da lista\n",
        "for x in l: # para cada x(valor) dentro da lista imprima os valores\n",
        "    print(x)\n",
        "l.append(\"123\") # para adicionar ao final um item dentro da lista\n",
        "print(l)\n",
        "l.insert(0,\"1º\") #inserir na lista conforme posição indicada (posição,o que seja inserir)\n",
        "print(l)\n",
        "l.index(\"b\") #saber a posição de um objeto dentro da lista\n",
        "l.count(l) #contar quantas vezes aquele objeto aparece dentro da lista"
      ],
      "execution_count": null,
      "outputs": []
    },
    {
      "cell_type": "code",
      "source": [
        "# criando grafico\n",
        "import matplotlib.pyplot as plt\n",
        "import seaborn as sns\n",
        "sns.violinplot(x = 'salario', data = 'dataset')\n",
        "plt.show()"
      ],
      "metadata": {
        "id": "dLSOobZJw0dU"
      },
      "execution_count": null,
      "outputs": []
    },
    {
      "cell_type": "code",
      "source": [
        "!java -version\n",
        "# To be more precisely, it's better to use `{sys.executable} -m pip install tabula-py`\n",
        "!pip install -q tabula-py\n",
        "\n",
        "import tabula\n",
        "\n",
        "# Leia o pdf na lista de DataFrame\n",
        "dfs = tabula.read_pdf(\"/content/sample_data/pdf_PAGINAS.pdf\", pages='all')\n",
        "\n",
        "# Leia o pdf remoto na lista de DataFrame \n",
        "## dfs2 = tabula.read_pdf(\"https://github.com/tabulapdf/tabula-java/raw/master/src/test/resources/technology/tabula/arabic.pdf\")\n",
        "\n",
        "# convert PDF into CSV file\n",
        "tabula.convert_into(\"/content/sample_data/pdf_PAGINAS.pdf\", \"/content/sample_data/output.csv\", output_format=\"csv\", pages='all')\n",
        "\n",
        "# converte todos os PDFs em um diretório tabula\n",
        "## tabula.convert_into_by_batch(\"input_directory\", output_format='csv', pages='all')\n",
        "\n",
        "\n",
        "\n",
        "\n"
      ],
      "metadata": {
        "colab": {
          "base_uri": "https://localhost:8080/",
          "height": 426
        },
        "id": "jMHiurAGddgV",
        "outputId": "d076fa04-f3fa-4b39-df5d-bafda0ebf10c"
      },
      "execution_count": null,
      "outputs": [
        {
          "output_type": "stream",
          "name": "stdout",
          "text": [
            "openjdk version \"11.0.13\" 2021-10-19\n",
            "OpenJDK Runtime Environment (build 11.0.13+8-Ubuntu-0ubuntu1.18.04)\n",
            "OpenJDK 64-Bit Server VM (build 11.0.13+8-Ubuntu-0ubuntu1.18.04, mixed mode, sharing)\n",
            "\u001b[K     |████████████████████████████████| 12.0 MB 5.6 MB/s \n",
            "\u001b[?25h"
          ]
        },
        {
          "output_type": "error",
          "ename": "FileNotFoundError",
          "evalue": "ignored",
          "traceback": [
            "\u001b[0;31m---------------------------------------------------------------------------\u001b[0m",
            "\u001b[0;31mFileNotFoundError\u001b[0m                         Traceback (most recent call last)",
            "\u001b[0;32m<ipython-input-10-36eca5eaa643>\u001b[0m in \u001b[0;36m<module>\u001b[0;34m()\u001b[0m\n\u001b[1;32m      6\u001b[0m \u001b[0;34m\u001b[0m\u001b[0m\n\u001b[1;32m      7\u001b[0m \u001b[0;31m# Leia o pdf na lista de DataFrame\u001b[0m\u001b[0;34m\u001b[0m\u001b[0;34m\u001b[0m\u001b[0;34m\u001b[0m\u001b[0m\n\u001b[0;32m----> 8\u001b[0;31m \u001b[0mdfs\u001b[0m \u001b[0;34m=\u001b[0m \u001b[0mtabula\u001b[0m\u001b[0;34m.\u001b[0m\u001b[0mread_pdf\u001b[0m\u001b[0;34m(\u001b[0m\u001b[0;34m\"/content/sample_data/pdf_PAGINAS.pdf\"\u001b[0m\u001b[0;34m,\u001b[0m \u001b[0mpages\u001b[0m\u001b[0;34m=\u001b[0m\u001b[0;34m'all'\u001b[0m\u001b[0;34m)\u001b[0m\u001b[0;34m\u001b[0m\u001b[0;34m\u001b[0m\u001b[0m\n\u001b[0m\u001b[1;32m      9\u001b[0m \u001b[0;34m\u001b[0m\u001b[0m\n\u001b[1;32m     10\u001b[0m \u001b[0;31m# Leia o pdf remoto na lista de DataFrame\u001b[0m\u001b[0;34m\u001b[0m\u001b[0;34m\u001b[0m\u001b[0;34m\u001b[0m\u001b[0m\n",
            "\u001b[0;32m/usr/local/lib/python3.7/dist-packages/tabula/io.py\u001b[0m in \u001b[0;36mread_pdf\u001b[0;34m(input_path, output_format, encoding, java_options, pandas_options, multiple_tables, user_agent, **kwargs)\u001b[0m\n\u001b[1;32m    312\u001b[0m \u001b[0;34m\u001b[0m\u001b[0m\n\u001b[1;32m    313\u001b[0m     \u001b[0;32mif\u001b[0m \u001b[0;32mnot\u001b[0m \u001b[0mos\u001b[0m\u001b[0;34m.\u001b[0m\u001b[0mpath\u001b[0m\u001b[0;34m.\u001b[0m\u001b[0mexists\u001b[0m\u001b[0;34m(\u001b[0m\u001b[0mpath\u001b[0m\u001b[0;34m)\u001b[0m\u001b[0;34m:\u001b[0m\u001b[0;34m\u001b[0m\u001b[0;34m\u001b[0m\u001b[0m\n\u001b[0;32m--> 314\u001b[0;31m         \u001b[0;32mraise\u001b[0m \u001b[0mFileNotFoundError\u001b[0m\u001b[0;34m(\u001b[0m\u001b[0merrno\u001b[0m\u001b[0;34m.\u001b[0m\u001b[0mENOENT\u001b[0m\u001b[0;34m,\u001b[0m \u001b[0mos\u001b[0m\u001b[0;34m.\u001b[0m\u001b[0mstrerror\u001b[0m\u001b[0;34m(\u001b[0m\u001b[0merrno\u001b[0m\u001b[0;34m.\u001b[0m\u001b[0mENOENT\u001b[0m\u001b[0;34m)\u001b[0m\u001b[0;34m,\u001b[0m \u001b[0mpath\u001b[0m\u001b[0;34m)\u001b[0m\u001b[0;34m\u001b[0m\u001b[0;34m\u001b[0m\u001b[0m\n\u001b[0m\u001b[1;32m    315\u001b[0m \u001b[0;34m\u001b[0m\u001b[0m\n\u001b[1;32m    316\u001b[0m     \u001b[0;32mif\u001b[0m \u001b[0mos\u001b[0m\u001b[0;34m.\u001b[0m\u001b[0mpath\u001b[0m\u001b[0;34m.\u001b[0m\u001b[0mgetsize\u001b[0m\u001b[0;34m(\u001b[0m\u001b[0mpath\u001b[0m\u001b[0;34m)\u001b[0m \u001b[0;34m==\u001b[0m \u001b[0;36m0\u001b[0m\u001b[0;34m:\u001b[0m\u001b[0;34m\u001b[0m\u001b[0;34m\u001b[0m\u001b[0m\n",
            "\u001b[0;31mFileNotFoundError\u001b[0m: [Errno 2] No such file or directory: '/content/sample_data/pdf_PAGINAS.pdf'"
          ]
        }
      ]
    }
  ]
}